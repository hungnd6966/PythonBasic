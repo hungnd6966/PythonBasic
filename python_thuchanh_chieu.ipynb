{
 "cells": [
  {
   "cell_type": "code",
   "execution_count": 4,
   "metadata": {},
   "outputs": [
    {
     "name": "stdout",
     "output_type": "stream",
     "text": [
      "False\n"
     ]
    }
   ],
   "source": [
    "a = 8\n",
    "print(a > 10)"
   ]
  },
  {
   "cell_type": "code",
   "execution_count": 5,
   "metadata": {},
   "outputs": [
    {
     "name": "stdin",
     "output_type": "stream",
     "text": [
      "Nhap diem cua sinh vien: 8\n"
     ]
    },
    {
     "name": "stdout",
     "output_type": "stream",
     "text": [
      "Sinh viên đạt loại B\n"
     ]
    }
   ],
   "source": [
    "import math\n",
    "def nhap():\n",
    "    diem = float(input(\"Nhap diem cua sinh vien:\"))\n",
    "    return diem\n",
    "\n",
    "def kiemtra(diem):\n",
    "    if diem >= 8.5 and diem <= 10:\n",
    "        print(\"Sinh viên đạt loại A\")\n",
    "    elif diem >= 7.0 and diem < 8.5:\n",
    "        print(\"Sinh viên đạt loại B\")   \n",
    "    elif diem >= 5.0 and diem < 7:\n",
    "        print(\"Sinh viên đạt loại C\")   \n",
    "    elif diem >= 3.0 and diem < 5:\n",
    "        print(\"Sinh viên đạt loại D\")\n",
    "    else:    \n",
    "        print(\"Sinh viên đạt loại F\")\n",
    "        \n",
    "def main(): \n",
    "    diem_SV = nhap()\n",
    "    kiemtra(diem_SV)\n",
    "    \n",
    "if  __name__ == '__main__':\n",
    "    main()"
   ]
  },
  {
   "cell_type": "code",
   "execution_count": 6,
   "metadata": {},
   "outputs": [
    {
     "name": "stdout",
     "output_type": "stream",
     "text": [
      "1.1 - True\n",
      "-100\n"
     ]
    }
   ],
   "source": [
    "_var1 = -100\n",
    "_var2 = 100\n",
    "if _var1:\n",
    "    print(\"1.1 - True\")\n",
    "    print(_var1)\n",
    "elif True:\n",
    "    print(\"1.2 - True\")\n",
    "    print(_var2)\n",
    "else:    \n",
    "    print(\"1.3 - Nhan mot gia tri False\")\n",
    "    print(_var1 + _var2)"
   ]
  },
  {
   "cell_type": "code",
   "execution_count": 7,
   "metadata": {},
   "outputs": [
    {
     "name": "stdout",
     "output_type": "stream",
     "text": [
      "2.2 - Nhan mot gia tri False\n",
      "0\n"
     ]
    }
   ],
   "source": [
    "_var3 = 0\n",
    "if _var3:\n",
    "    print(\"2.1 - Nhan mot gia tri True\")\n",
    "    print(_var3)\n",
    "else:\n",
    "    print(\"2.2 - Nhan mot gia tri False\")\n",
    "    print(_var3)"
   ]
  },
  {
   "cell_type": "code",
   "execution_count": 8,
   "metadata": {},
   "outputs": [
    {
     "name": "stdout",
     "output_type": "stream",
     "text": [
      "Nhỏ hơn 15.\n",
      "Giá trị là 10.\n",
      "Finish!\n"
     ]
    }
   ],
   "source": [
    "_number = 10\n",
    "if _number < 15:\n",
    "    print (\"Nhỏ hơn 15.\")\n",
    "    if _number == 15:\n",
    "        print (\"Giá trị là 15.\")\n",
    "    elif _number == 10:\n",
    "        print (\"Giá trị là 10.\")\n",
    "    elif _number == 5:\n",
    "        print (\"Giá trị là 5.\")\n",
    "elif _number < 5:\n",
    "    print (\"Nhỏ hơn 5.\")\n",
    "else:\n",
    "    print (\"Không tìm thấy giá trị thích hợp\")\n",
    "print (\"Finish!\")\n"
   ]
  },
  {
   "cell_type": "code",
   "execution_count": 9,
   "metadata": {},
   "outputs": [
    {
     "name": "stdin",
     "output_type": "stream",
     "text": [
      "Canh a: 89\n",
      "Canh b: 98\n",
      "Canh c: 66\n"
     ]
    },
    {
     "name": "stdout",
     "output_type": "stream",
     "text": [
      "89.0 98.0 66.0 La do dai 3 canh cua tam giac\n"
     ]
    }
   ],
   "source": [
    "a = float(input('Canh a:'))\n",
    "b = float(input('Canh b:'))\n",
    "c = float(input('Canh c:'))\n",
    "if (a + b > c) and (b + c > a)  and (c + a > b):\n",
    "    print(a,b,c, \"La do dai 3 canh cua tam giac\")\n",
    "else:   \n",
    "    print(a,b,c, \"khong la do dai 3 canh cua tam giac\")\n"
   ]
  },
  {
   "cell_type": "code",
   "execution_count": null,
   "metadata": {},
   "outputs": [],
   "source": [
    "a = int(input('So a:'))\n",
    "\n",
    "if (a % 2 == 0):\n",
    "    print(a, \"La so chan\")\n",
    "else:   \n",
    "    print(a, \"La so le\")"
   ]
  },
  {
   "cell_type": "code",
   "execution_count": null,
   "metadata": {},
   "outputs": [],
   "source": [
    "n = int(input(\"Nhap so n=\"))\n",
    "tong = 0;\n",
    "i = 1;\n",
    "while i <= n:\n",
    "    tong += i;\n",
    "    i += 1\n",
    "    print(\"Tong:\", tong)\n",
    "print(\"Tong:\", tong)\n",
    " "
   ]
  },
  {
   "cell_type": "code",
   "execution_count": null,
   "metadata": {},
   "outputs": [],
   "source": []
  },
  {
   "cell_type": "code",
   "execution_count": null,
   "metadata": {},
   "outputs": [],
   "source": []
  }
 ],
 "metadata": {
  "kernelspec": {
   "display_name": "Python 3",
   "language": "python",
   "name": "python3"
  },
  "language_info": {
   "codemirror_mode": {
    "name": "ipython",
    "version": 3
   },
   "file_extension": ".py",
   "mimetype": "text/x-python",
   "name": "python",
   "nbconvert_exporter": "python",
   "pygments_lexer": "ipython3",
   "version": "3.8.1"
  }
 },
 "nbformat": 4,
 "nbformat_minor": 4
}
