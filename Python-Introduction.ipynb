{
 "cells": [
  {
   "cell_type": "markdown",
   "metadata": {},
   "source": [
    "## Introduction to Python 3.8\n",
    "- **introdcutor: Nguyễn Duong Hùng**"
   ]
  },
  {
   "cell_type": "code",
   "execution_count": null,
   "metadata": {},
   "outputs": [],
   "source": [
    "# Kiem tra thu vien\n",
    "import sklearn\n",
    "sklearn.__file__"
   ]
  },
  {
   "cell_type": "code",
   "execution_count": null,
   "metadata": {},
   "outputs": [],
   "source": [
    "# Go va thu hien chuong trinh dau tien\n",
    "print(\"Xin chao mung den voi Python Programming\")"
   ]
  },
  {
   "cell_type": "markdown",
   "metadata": {},
   "source": [
    "-**Một chương trình mẫu**"
   ]
  },
  {
   "cell_type": "code",
   "execution_count": null,
   "metadata": {},
   "outputs": [],
   "source": [
    "# -*- coding: utf-8 -*-  # Sử dụng utf-8\n",
    "\n",
    "\"\"\"\n",
    "Created on Sun Aug 16 21:13:31 2020\n",
    "\n",
    "@author: hungnd\n",
    "\"\"\"\n",
    "from __future__ import print_function # Chi thi các hàm trong tuong lai\n",
    "\n",
    "def aver(n):\n",
    "    sum=0\n",
    "    for i in range(n):\n",
    "        x=int(input(\"Enter the number:\"))\n",
    "        sum = sum + x\n",
    "    return sum/n\n",
    "\n",
    "def main():\n",
    "    n=int(input(\"Enter the total number you want to enter:\"))\n",
    "    print(\"Average=\",aver(n))\n",
    "\n",
    "if __name__ == '__main__':\n",
    "    main() "
   ]
  },
  {
   "cell_type": "markdown",
   "metadata": {},
   "source": [
    "- **Chương trình mâu thứ 2: nhập dữ liệu từ bàn phím***"
   ]
  },
  {
   "cell_type": "code",
   "execution_count": null,
   "metadata": {},
   "outputs": [],
   "source": [
    "\"\"\"\n",
    "This is a pure python implementation of the selection sort algorithm\n",
    "\n",
    "For doctests run following command:\n",
    "python -m doctest -v selection_sort.py\n",
    "or\n",
    "python3 -m doctest -v selection_sort.py\n",
    "\n",
    "For manual testing run:\n",
    "python selection_sort.py\n",
    "\"\"\"\n",
    " #-*- coding: utf-8 -*-  # Sử dụng utf-8\n",
    "from __future__ import print_function\n",
    "\n",
    "\n",
    "def selection_sort(collection):\n",
    "    \"\"\"Pure implementation of the selection sort algorithm in Python\n",
    "    :param collection: some mutable ordered collection with heterogeneous\n",
    "    comparable items inside\n",
    "    :return: the same collection ordered by ascending\n",
    "\n",
    "\n",
    "    Examples:\n",
    "    >>> selection_sort([0, 5, 3, 2, 2])\n",
    "    [0, 2, 2, 3, 5]\n",
    "\n",
    "    >>> selection_sort([])\n",
    "    []\n",
    "\n",
    "    >>> selection_sort([-2, -5, -45])\n",
    "    [-45, -5, -2]\n",
    "    \"\"\"\n",
    "\n",
    "    length = len(collection)\n",
    "    for i in range(length - 1):\n",
    "        least = i\n",
    "        for k in range(i + 1, length):\n",
    "            if collection[k] < collection[least]:\n",
    "                least = k\n",
    "        collection[least], collection[i] = (\n",
    "            collection[i], collection[least]\n",
    "        )\n",
    "    return collection\n",
    "\n",
    "\n",
    "if __name__ == '__main__':\n",
    "    try:\n",
    "        raw_input          # Python 2\n",
    "    except NameError:\n",
    "        raw_input = input  # Python 3\n",
    "\n",
    "    user_input = raw_input('Enter numbers separated by a comma:\\n').strip()\n",
    "    unsorted = [int(item) for item in user_input.split(',')]\n",
    "    print(selection_sort(unsorted))\n"
   ]
  },
  {
   "cell_type": "markdown",
   "metadata": {},
   "source": [
    "- ** Mô hình hồi qui **"
   ]
  },
  {
   "cell_type": "code",
   "execution_count": null,
   "metadata": {},
   "outputs": [],
   "source": [
    " #-*- coding: utf-8 -*-  # Sử dụng utf-8\n",
    "from __future__ import division, print_function, unicode_literals\n",
    "import numpy as np\n",
    "import matplotlib.pyplot as plt\n",
    "from sklearn import datasets, linear_model\n",
    "import time\n",
    "\n",
    "def get_param_Linear_Regression(X, y):\n",
    "    '''\n",
    "    Parameter:\n",
    "        X: numpy array with X.shapre = (n, 1) and n is size of data\n",
    "        y: numpy array with y.shapre = (n, 1) and n is size of data\n",
    "    Output:\n",
    "        return [w_0, w_1] with line y = w_0 + w_1*x is fitting line of linear regression method for data (X, y)\n",
    "    '''\n",
    "\n",
    "    # Building Xbar\n",
    "    one = np.ones((X.shape[0], 1))\n",
    "    Xbar = np.concatenate((one, X), axis=1)\n",
    "    regr = linear_model.LinearRegression(\n",
    "        fit_intercept=False)        # fit_intercept = False for calculating the bias\n",
    "    regr.fit(Xbar, y)\n",
    "    return regr.coef_[0]\n",
    "\n",
    "\n",
    "def draw_LR_fitting_line(X, y, w_0, w_1):\n",
    "    '''\n",
    "    Parameter:\n",
    "        X: numpy array with X.shapre = (n, 1) and n is size of data\n",
    "        y: numpy array with y.shapre = (n, 1) and n is size of data\n",
    "        [w_0, w_1] is linear regression result of data (X, y)\n",
    "    Output:\n",
    "        Drawing the fitting line\n",
    "    '''\n",
    "\n",
    "    # Drawing the fitting line\n",
    "    x0 = np.linspace(145, 185, 2)\n",
    "    y0 = w_0 + w_1*x0\n",
    "\n",
    "    plt.plot(X.T, y.T, 'ro')        # data\n",
    "    plt.plot(x0, y0)                # the fitting line\n",
    "    plt.axis([140, 190, 45, 75])\n",
    "    plt.xlabel('Height (cm)')\n",
    "    plt.ylabel('Weight (kg)')\n",
    "    plt.show()\n",
    "\n",
    "\n",
    "def main():\n",
    "    start = time.time()\n",
    "    # height (cm)\n",
    "    X = np.array(\n",
    "        [[147, 150, 153, 158, 163, 165, 168, 170, 173, 175, 178, 180, 183]]).T\n",
    "    # weight (kg)\n",
    "    y = np.array([[49, 50, 51,  54, 58, 59, 60, 62, 63, 64, 66, 67, 68]]).T\n",
    "\n",
    "    w_0, w_1 = get_param_Linear_Regression(X, y)\n",
    "    print(\"Fitting Line: y = {0:.2f} + {1:.2f}*x\".format(w_0, w_1))\n",
    "\n",
    "    print(\"Running time: {0:.3f} s\".format(time.time()-start))\n",
    "\n",
    "    # Drawing result\n",
    "    draw_LR_fitting_line(X, y, w_0, w_1)\n",
    "\n",
    "\n",
    "if __name__ == \"__main__\":\n",
    "    main()\n"
   ]
  },
  {
   "cell_type": "markdown",
   "metadata": {},
   "source": [
    "- **Các phép toán cơ bản**"
   ]
  },
  {
   "cell_type": "code",
   "execution_count": null,
   "metadata": {},
   "outputs": [],
   "source": [
    "print(2+3*4) #14\n",
    "print((2+3)*4) #20\n",
    "print(2**10) #1024\n",
    "print(6/3) #2.0\n",
    "print(7/3) #2.33333333333\n",
    "print(7//3) #2\n",
    "print(7%3) #1\n",
    "print(3/6) #0.5\n",
    "print(3//6) #0\n",
    "print(3%6) #3\n",
    "print(2**100) # 1267650600228229401496703205376"
   ]
  },
  {
   "cell_type": "markdown",
   "metadata": {},
   "source": [
    "- **Whlie lood**"
   ]
  },
  {
   "cell_type": "code",
   "execution_count": null,
   "metadata": {},
   "outputs": [],
   "source": [
    "i = 10 \n",
    "arr = []\n",
    "while i > 0:\n",
    "    arr.append(i)\n",
    "    print(i)\n",
    "    i = i - 1\n",
    "print(arr)"
   ]
  },
  {
   "cell_type": "markdown",
   "metadata": {},
   "source": [
    "- **Whlie lood**"
   ]
  },
  {
   "cell_type": "code",
   "execution_count": null,
   "metadata": {},
   "outputs": [],
   "source": [
    "n = 10 \n",
    "arr = []\n",
    "for i in range(1,n):\n",
    "    arr.append(i)\n",
    "    print(i)\n",
    "    i = i - 1\n",
    "print(arr)"
   ]
  },
  {
   "cell_type": "markdown",
   "metadata": {},
   "source": [
    "### Cấu trúc điểu khiển trong Python"
   ]
  },
  {
   "cell_type": "code",
   "execution_count": null,
   "metadata": {},
   "outputs": [],
   "source": [
    "diem = float(input(\"Nhap diẻm tong ket:\"))\n",
    "if diem >=8.5: print('A')\n",
    "elif diem >= 7.5 and diem < 8.5: print(\"B\")    \n",
    "else: print(\"C\")  "
   ]
  },
  {
   "cell_type": "code",
   "execution_count": null,
   "metadata": {},
   "outputs": [],
   "source": [
    "n = 1\n",
    "arr = []\n",
    "while n <= 100:\n",
    "    if n % 2 == 0: arr.append(n)\n",
    "    n = n + 1\n",
    "print(arr)    "
   ]
  },
  {
   "cell_type": "code",
   "execution_count": null,
   "metadata": {},
   "outputs": [],
   "source": [
    "a = arr\n",
    "for i in arr:\n",
    "    if i % 15 == 0:\n",
    "     print(i)\n"
   ]
  },
  {
   "cell_type": "markdown",
   "metadata": {},
   "source": [
    "# Functions\n",
    "- **Basic Function If -sele**"
   ]
  },
  {
   "cell_type": "code",
   "execution_count": 1,
   "metadata": {},
   "outputs": [
    {
     "name": "stdout",
     "output_type": "stream",
     "text": [
      "36\n"
     ]
    }
   ],
   "source": [
    "def listsum(numList):\n",
    "    if len(numList) == 1:\n",
    "        return numList[0]\n",
    "    else:\n",
    "        return numList[0] + listsum(numList[1:])\n",
    "def main():\n",
    "    print(listsum([1,3,5,7,9,11]))\n",
    "    #Chi dinh ham main() lam viec\n",
    "if __name__ == '__main__':\n",
    "    main()"
   ]
  },
  {
   "cell_type": "code",
   "execution_count": 14,
   "metadata": {},
   "outputs": [
    {
     "name": "stdin",
     "output_type": "stream",
     "text": [
      "Enter numbers separated by a comma:\n",
      " 1,2,3,4,5,6,7\n"
     ]
    },
    {
     "name": "stdout",
     "output_type": "stream",
     "text": [
      "Tong cua day: 28\n"
     ]
    }
   ],
   "source": [
    "def nhap():\n",
    "    try:\n",
    "        raw_input          # Python 2\n",
    "    except NameError:\n",
    "        raw_input = input  # Python 3\n",
    "\n",
    "    user_input = raw_input('Enter numbers separated by a comma:\\n').strip()\n",
    "    numList = [int(item) for item in user_input.split(',')]\n",
    "  #  print(selection_sort(unsorted))\n",
    "    return numList\n",
    "\n",
    "def listsum(numList):\n",
    "    if len(numList) == 1:\n",
    "        return numList[0]\n",
    "    else:\n",
    "        return numList[0] + listsum(numList[1:])\n",
    "\n",
    "def main():\n",
    "    numList = nhap()\n",
    "    print(\"Tong cua day:\", listsum(numList))\n",
    "  #  print(listsum([1,3,5,7,9,11]))\n",
    "    #Chi dinh ham main() lam viec\n",
    "if __name__ == '__main__':\n",
    "    main()"
   ]
  },
  {
   "cell_type": "code",
   "execution_count": null,
   "metadata": {},
   "outputs": [],
   "source": [
    "def fibo(n):\n",
    "    if n == 0 or n == 1:\n",
    "        return 1\n",
    "    else:\n",
    "        return fibo(n-1) + fibo(n-2)\n",
    "def testfi(n):\n",
    "    for i in range(n+1):\n",
    "        print('fibonaci  of', i, '=',fibo(i))\n",
    "def main():\n",
    "    a = int(input('Nhap so can tinh:'))\n",
    "    testfi(a)\n",
    "#Chi dinh ham main lam viec\n",
    "if __name__ == '__main__':\n",
    "    main()"
   ]
  },
  {
   "cell_type": "markdown",
   "metadata": {},
   "source": [
    "- **Function and while - for**"
   ]
  },
  {
   "cell_type": "code",
   "execution_count": null,
   "metadata": {},
   "outputs": [],
   "source": [
    "def count_to_n(n):\n",
    "    for i in range(1, n + 1):\n",
    "        print('*', end=' ')\n",
    "print()\n",
    "i = 1\n",
    "while i <= 10:\n",
    "    count_to_n(i)\n",
    "    i = i + 1\n",
    "    print()"
   ]
  },
  {
   "cell_type": "markdown",
   "metadata": {},
   "source": [
    "- **Function and while - for**"
   ]
  },
  {
   "cell_type": "code",
   "execution_count": null,
   "metadata": {},
   "outputs": [],
   "source": [
    "def count_to_n(n):\n",
    "    for i in range(1, n + 1):\n",
    "        print('*', end=' ')\n",
    "print()\n",
    "for i in range(1, 10):\n",
    "    count_to_n(i)\n",
    "    print()"
   ]
  },
  {
   "cell_type": "markdown",
   "metadata": {},
   "source": [
    "# lamba Function"
   ]
  },
  {
   "cell_type": "code",
   "execution_count": null,
   "metadata": {},
   "outputs": [],
   "source": [
    "x = lambda a : a + 10\n",
    "print(x(10))"
   ]
  },
  {
   "cell_type": "code",
   "execution_count": null,
   "metadata": {},
   "outputs": [],
   "source": [
    "x = lambda a, b : a * b\n",
    "print(x(5, 6))"
   ]
  },
  {
   "cell_type": "markdown",
   "metadata": {},
   "source": [
    "# Json"
   ]
  },
  {
   "cell_type": "code",
   "execution_count": null,
   "metadata": {},
   "outputs": [],
   "source": [
    "import json\n",
    "\n",
    "# some JSON:\n",
    "x =  '{ \"name\":\"John\", \"age\":30, \"city\":\"New York\"}'\n",
    "\n",
    "# parse x:\n",
    "y = json.loads(x)\n",
    "\n",
    "# the result is a Python dictionary:\n",
    "print(y[\"age\"])"
   ]
  },
  {
   "cell_type": "markdown",
   "metadata": {},
   "source": [
    "# Arrays"
   ]
  },
  {
   "cell_type": "code",
   "execution_count": null,
   "metadata": {},
   "outputs": [],
   "source": [
    "import array as arr\n",
    "arr = []\n",
    "n  = int(input(\"Nhap so phan tu :\"))\n",
    "for i in range(0,n):\n",
    "    t =int(input(\"Nhap so phan tu :\"))\n",
    "    arr.append(int(t))\n",
    "for i in range(0,n):    \n",
    "    print(arr[i])"
   ]
  },
  {
   "cell_type": "markdown",
   "metadata": {},
   "source": [
    "### In thông tin function"
   ]
  },
  {
   "cell_type": "code",
   "execution_count": null,
   "metadata": {},
   "outputs": [],
   "source": [
    "print (abs.__doc__)\n",
    "print (int.__doc__)\n",
    "print (input.__doc__)\n",
    "# Code by Quantrimang.com\n",
    "def square(num):\n",
    "#Trả lại giá trị bình phương của số được nhập vào.\n",
    "#Số nhập vào phải là số nguyên.\n",
    "\n",
    "    return num ** 2\n",
    "print (square.__doc__)"
   ]
  },
  {
   "cell_type": "code",
   "execution_count": null,
   "metadata": {},
   "outputs": [],
   "source": [
    "def count_to_n(n):\n",
    "    for i in range(1, n + 1):\n",
    "        print('*', end=' ')\n",
    "print()\n",
    "def main():\n",
    "    a = int(input('nhap so can tinh:'))\n",
    "    print(\"Hinh tam giac sao:\")\n",
    "    i = 1\n",
    "    while i <= a:\n",
    "        count_to_n(i)\n",
    "        i = i + 1\n",
    "        print()\n",
    "if __name__ == '__main__':\n",
    "    main()"
   ]
  },
  {
   "cell_type": "markdown",
   "metadata": {},
   "source": [
    "### Nhập dãy n phần tử và sắp xếp tăng"
   ]
  },
  {
   "cell_type": "code",
   "execution_count": null,
   "metadata": {},
   "outputs": [],
   "source": [
    "data = []\n",
    "n = 0\n",
    "def Nhap(nums):\n",
    "    n = int(input('Enter how many elements you want: '))   \n",
    "    for i in range(0, n):\n",
    "        x = input('Enter the numbers into the array: ')\n",
    "        data.append(int(x))\n",
    "    \n",
    "def in_day(data):\n",
    "    print(data)\n",
    "    \n",
    "def sort(data):\n",
    "    data.sort()    \n",
    "def main():\n",
    "    Nhap(n)\n",
    "    in_day(data)\n",
    "    sort(data)\n",
    "    in_day(data)\n",
    "if __name__ == '__main__':\n",
    "    main()"
   ]
  },
  {
   "cell_type": "code",
   "execution_count": null,
   "metadata": {},
   "outputs": [],
   "source": []
  },
  {
   "cell_type": "markdown",
   "metadata": {},
   "source": [
    "# This is heading"
   ]
  },
  {
   "cell_type": "raw",
   "metadata": {},
   "source": [
    "Abc"
   ]
  },
  {
   "cell_type": "markdown",
   "metadata": {},
   "source": [
    "# Heading"
   ]
  },
  {
   "cell_type": "markdown",
   "metadata": {},
   "source": [
    "**This is abc"
   ]
  },
  {
   "cell_type": "markdown",
   "metadata": {},
   "source": [
    "***Bac"
   ]
  },
  {
   "cell_type": "markdown",
   "metadata": {},
   "source": [
    "--Striking"
   ]
  },
  {
   "cell_type": "markdown",
   "metadata": {},
   "source": [
    "# Heading 2"
   ]
  },
  {
   "cell_type": "markdown",
   "metadata": {},
   "source": [
    "### Heading 3"
   ]
  },
  {
   "cell_type": "markdown",
   "metadata": {},
   "source": [
    "## Heading 2"
   ]
  },
  {
   "cell_type": "code",
   "execution_count": null,
   "metadata": {},
   "outputs": [],
   "source": [
    "print(\"Hello\")"
   ]
  },
  {
   "cell_type": "code",
   "execution_count": null,
   "metadata": {},
   "outputs": [],
   "source": [
    "25*(1/2)"
   ]
  },
  {
   "cell_type": "code",
   "execution_count": null,
   "metadata": {},
   "outputs": [],
   "source": [
    "25**(1/2)"
   ]
  },
  {
   "cell_type": "code",
   "execution_count": null,
   "metadata": {},
   "outputs": [],
   "source": [
    "25**(1/2)"
   ]
  },
  {
   "cell_type": "code",
   "execution_count": null,
   "metadata": {},
   "outputs": [],
   "source": [
    "city=\"Hanoi\""
   ]
  },
  {
   "cell_type": "code",
   "execution_count": null,
   "metadata": {},
   "outputs": [],
   "source": [
    "city"
   ]
  },
  {
   "cell_type": "code",
   "execution_count": null,
   "metadata": {},
   "outputs": [],
   "source": [
    "type(city)"
   ]
  },
  {
   "cell_type": "code",
   "execution_count": null,
   "metadata": {},
   "outputs": [],
   "source": [
    "str(10)"
   ]
  },
  {
   "cell_type": "code",
   "execution_count": null,
   "metadata": {},
   "outputs": [],
   "source": [
    "float(10)"
   ]
  },
  {
   "cell_type": "code",
   "execution_count": null,
   "metadata": {},
   "outputs": [],
   "source": [
    "x = 10,20,25"
   ]
  },
  {
   "cell_type": "code",
   "execution_count": null,
   "metadata": {},
   "outputs": [],
   "source": [
    "print(x)"
   ]
  },
  {
   "cell_type": "code",
   "execution_count": null,
   "metadata": {},
   "outputs": [],
   "source": [
    "x"
   ]
  },
  {
   "cell_type": "code",
   "execution_count": null,
   "metadata": {},
   "outputs": [],
   "source": [
    "y = (10,'abc')"
   ]
  },
  {
   "cell_type": "code",
   "execution_count": null,
   "metadata": {},
   "outputs": [],
   "source": [
    "y"
   ]
  },
  {
   "cell_type": "code",
   "execution_count": null,
   "metadata": {},
   "outputs": [],
   "source": [
    "type(y)"
   ]
  },
  {
   "cell_type": "code",
   "execution_count": null,
   "metadata": {},
   "outputs": [],
   "source": [
    "#!/usr/bin/python\n",
    "\n",
    "list1 = ['Toán', 'Tin', 1997, 2000,'Ngoại ngữ']\n",
    "list2 = [1, 2, 3, 4, 5, 6, 7 ]\n",
    "list0 = list1 + list2"
   ]
  },
  {
   "cell_type": "code",
   "execution_count": null,
   "metadata": {},
   "outputs": [],
   "source": [
    "#list1\n",
    "list0"
   ]
  },
  {
   "cell_type": "code",
   "execution_count": null,
   "metadata": {},
   "outputs": [],
   "source": [
    "list1[1]"
   ]
  },
  {
   "cell_type": "code",
   "execution_count": null,
   "metadata": {},
   "outputs": [],
   "source": [
    "list1[0]"
   ]
  },
  {
   "cell_type": "code",
   "execution_count": null,
   "metadata": {},
   "outputs": [],
   "source": [
    "y[0]"
   ]
  },
  {
   "cell_type": "code",
   "execution_count": null,
   "metadata": {},
   "outputs": [],
   "source": [
    "y[1]"
   ]
  },
  {
   "cell_type": "code",
   "execution_count": null,
   "metadata": {},
   "outputs": [],
   "source": [
    "print (\"list1[0]: \", list1[0])"
   ]
  },
  {
   "cell_type": "code",
   "execution_count": null,
   "metadata": {},
   "outputs": [],
   "source": [
    "list = ['Tin', 'Toán', 1997, 2000];\n",
    "print (\"Value available at index 2 : \");\n",
    "print (list[2]);\n",
    "list[2] = 2019;\n",
    "print (\"New value available at index 2 : \");\n",
    "print (list[2]);"
   ]
  },
  {
   "cell_type": "code",
   "execution_count": null,
   "metadata": {},
   "outputs": [],
   "source": [
    "print(list);\n",
    "list[:3]"
   ]
  },
  {
   "cell_type": "code",
   "execution_count": null,
   "metadata": {},
   "outputs": [],
   "source": [
    "list[1:2]"
   ]
  },
  {
   "cell_type": "code",
   "execution_count": null,
   "metadata": {},
   "outputs": [],
   "source": [
    "list[0::2]"
   ]
  },
  {
   "cell_type": "code",
   "execution_count": null,
   "metadata": {},
   "outputs": [],
   "source": [
    "list[1:3]"
   ]
  },
  {
   "cell_type": "code",
   "execution_count": null,
   "metadata": {},
   "outputs": [],
   "source": [
    "list[1:]"
   ]
  },
  {
   "cell_type": "code",
   "execution_count": null,
   "metadata": {},
   "outputs": [],
   "source": [
    "list[2:]"
   ]
  },
  {
   "cell_type": "code",
   "execution_count": null,
   "metadata": {},
   "outputs": [],
   "source": [
    "list[:3]"
   ]
  },
  {
   "cell_type": "code",
   "execution_count": null,
   "metadata": {},
   "outputs": [],
   "source": [
    "list[:1]"
   ]
  },
  {
   "cell_type": "code",
   "execution_count": null,
   "metadata": {},
   "outputs": [],
   "source": [
    "id(list)"
   ]
  },
  {
   "cell_type": "code",
   "execution_count": null,
   "metadata": {},
   "outputs": [],
   "source": [
    "id(list[1])"
   ]
  },
  {
   "cell_type": "code",
   "execution_count": null,
   "metadata": {},
   "outputs": [],
   "source": [
    "list[1:4:2]"
   ]
  },
  {
   "cell_type": "code",
   "execution_count": null,
   "metadata": {},
   "outputs": [],
   "source": [
    "thisdict = {\n",
    "  \"apple\": \"green\",\n",
    "  \"banana\": \"yellow\",\n",
    "  \"cherry\": \"red\"\n",
    "}\n",
    "print(thisdict)"
   ]
  },
  {
   "cell_type": "code",
   "execution_count": null,
   "metadata": {},
   "outputs": [],
   "source": [
    "thisdict = dict(apple=\"green\", banana=\"yellow\", cherry=\"red\")\n",
    "# note that keywords are not string literals\n",
    "# note the use of equals rather than colon for the assignment\n",
    "print(thisdict)"
   ]
  },
  {
   "cell_type": "code",
   "execution_count": null,
   "metadata": {
    "scrolled": true
   },
   "outputs": [],
   "source": [
    "thisdict = dict(apple=\"green\", banana=\"yellow\", cherry=\"red\")\n",
    "del(thisdict[\"banana\"])\n",
    "print(thisdict)"
   ]
  },
  {
   "cell_type": "code",
   "execution_count": null,
   "metadata": {},
   "outputs": [],
   "source": [
    "thisdict[\"apple\"]"
   ]
  },
  {
   "cell_type": "code",
   "execution_count": null,
   "metadata": {},
   "outputs": [],
   "source": [
    "a = 33\n",
    "b = 33\n",
    "if b > a:\n",
    " print(\"b is greater than a\")\n",
    "elif a == b:\n",
    " print(\"a and b are equal\")"
   ]
  },
  {
   "cell_type": "code",
   "execution_count": null,
   "metadata": {},
   "outputs": [],
   "source": [
    "def AddNum(x,y):\n",
    "    result = x + y\n",
    "    return(result)"
   ]
  },
  {
   "cell_type": "code",
   "execution_count": null,
   "metadata": {},
   "outputs": [],
   "source": [
    "AddNum(10,12)"
   ]
  },
  {
   "cell_type": "code",
   "execution_count": null,
   "metadata": {},
   "outputs": [],
   "source": [
    "def AddNum1(*args):\n",
    "  # *args \n",
    "  print(args)"
   ]
  },
  {
   "cell_type": "code",
   "execution_count": null,
   "metadata": {},
   "outputs": [],
   "source": [
    "AddNum1([8,9,10])"
   ]
  },
  {
   "cell_type": "code",
   "execution_count": null,
   "metadata": {},
   "outputs": [],
   "source": [
    "import numpy as np\n",
    "import pandas as pd\n"
   ]
  },
  {
   "cell_type": "code",
   "execution_count": null,
   "metadata": {},
   "outputs": [],
   "source": [
    "s = pd.Series(np.random.randn(5), index=['a', 'b', 'c', 'd', 'e'])"
   ]
  },
  {
   "cell_type": "code",
   "execution_count": null,
   "metadata": {},
   "outputs": [],
   "source": [
    "s"
   ]
  },
  {
   "cell_type": "code",
   "execution_count": null,
   "metadata": {},
   "outputs": [],
   "source": [
    "a = 33\n",
    "b = 33\n",
    "if b > a:\n",
    " print(\"b is greater than a\")\n",
    "elif a == b:\n",
    " print(\"a and b are equal\")"
   ]
  },
  {
   "cell_type": "code",
   "execution_count": null,
   "metadata": {},
   "outputs": [],
   "source": [
    "import numpy as np"
   ]
  },
  {
   "cell_type": "code",
   "execution_count": null,
   "metadata": {},
   "outputs": [],
   "source": [
    "s.loc[\"d\"]"
   ]
  },
  {
   "cell_type": "code",
   "execution_count": null,
   "metadata": {},
   "outputs": [],
   "source": [
    "s1 = pd.Series(np.random.randn(5), name='something')"
   ]
  },
  {
   "cell_type": "code",
   "execution_count": null,
   "metadata": {},
   "outputs": [],
   "source": [
    "s1"
   ]
  },
  {
   "cell_type": "code",
   "execution_count": null,
   "metadata": {},
   "outputs": [],
   "source": [
    "s1.loc[1]"
   ]
  },
  {
   "cell_type": "code",
   "execution_count": null,
   "metadata": {},
   "outputs": [],
   "source": [
    "s1.loc[(s1>0.5)]"
   ]
  },
  {
   "cell_type": "code",
   "execution_count": null,
   "metadata": {},
   "outputs": [],
   "source": []
  },
  {
   "cell_type": "code",
   "execution_count": null,
   "metadata": {},
   "outputs": [],
   "source": [
    "s1.loc[(s1>0.5) & (s1 <0.9)]"
   ]
  },
  {
   "cell_type": "code",
   "execution_count": null,
   "metadata": {},
   "outputs": [],
   "source": [
    "# How to list all Attributes\n",
    "dir(s1)"
   ]
  },
  {
   "cell_type": "code",
   "execution_count": null,
   "metadata": {},
   "outputs": [],
   "source": [
    "dir(list)"
   ]
  },
  {
   "cell_type": "code",
   "execution_count": null,
   "metadata": {},
   "outputs": [],
   "source": [
    "dir(list)"
   ]
  },
  {
   "cell_type": "code",
   "execution_count": null,
   "metadata": {},
   "outputs": [],
   "source": [
    "# pandas.core.frame.DataFrame\n",
    "# Khi doc du lieu tu File, vi du File CSV hoac cac dang DB duoi day, du lieu ca file se duoc dua vao Data Frame\n",
    "# csv / Text\n",
    "# Excel file\n",
    "# DBMS\n",
    "# SAS"
   ]
  },
  {
   "cell_type": "code",
   "execution_count": null,
   "metadata": {},
   "outputs": [],
   "source": [
    "a = np.array([1.0, 2.0, 3.0])"
   ]
  },
  {
   "cell_type": "code",
   "execution_count": null,
   "metadata": {},
   "outputs": [],
   "source": [
    "np.array([2.0, 2.0, 2.0])"
   ]
  },
  {
   "cell_type": "code",
   "execution_count": null,
   "metadata": {},
   "outputs": [],
   "source": [
    "a * b"
   ]
  },
  {
   "cell_type": "code",
   "execution_count": null,
   "metadata": {},
   "outputs": [],
   "source": [
    "import pandas as pd\n",
    "table1 = pd.read_csv(\"D:\\Datasets\\Big Data\\Credit_test.csv\",sep=\",\")"
   ]
  },
  {
   "cell_type": "code",
   "execution_count": null,
   "metadata": {},
   "outputs": [],
   "source": [
    "table1"
   ]
  },
  {
   "cell_type": "code",
   "execution_count": null,
   "metadata": {},
   "outputs": [],
   "source": [
    "table2 = pd.read_csv(\"D:\\Datasets\\Big Data\\Credit_test.csv\",sep=\",\")"
   ]
  },
  {
   "cell_type": "code",
   "execution_count": null,
   "metadata": {
    "scrolled": true
   },
   "outputs": [],
   "source": [
    "table2"
   ]
  },
  {
   "cell_type": "code",
   "execution_count": null,
   "metadata": {},
   "outputs": [],
   "source": [
    "table3 = pd.read_csv(\"D:\\Datasets\\Big Data\\Credit_test.csv\",sep=\",\")"
   ]
  },
  {
   "cell_type": "code",
   "execution_count": null,
   "metadata": {
    "scrolled": true
   },
   "outputs": [],
   "source": [
    "table3"
   ]
  },
  {
   "cell_type": "code",
   "execution_count": null,
   "metadata": {},
   "outputs": [],
   "source": [
    "table3.columns"
   ]
  },
  {
   "cell_type": "code",
   "execution_count": null,
   "metadata": {},
   "outputs": [],
   "source": [
    "table3.shape # (num of rows, num of columns)"
   ]
  },
  {
   "cell_type": "code",
   "execution_count": null,
   "metadata": {},
   "outputs": [],
   "source": [
    "nrows = table3.shape[0]\n",
    "ncolumns = table3.shape[1]"
   ]
  },
  {
   "cell_type": "code",
   "execution_count": null,
   "metadata": {},
   "outputs": [],
   "source": [
    "print(nrows)"
   ]
  },
  {
   "cell_type": "code",
   "execution_count": null,
   "metadata": {},
   "outputs": [],
   "source": [
    "dir(table3)"
   ]
  },
  {
   "cell_type": "code",
   "execution_count": null,
   "metadata": {},
   "outputs": [],
   "source": [
    "table3.info()\n",
    "# Non - null"
   ]
  },
  {
   "cell_type": "code",
   "execution_count": null,
   "metadata": {
    "scrolled": true
   },
   "outputs": [],
   "source": [
    "table3.describe()"
   ]
  },
  {
   "cell_type": "code",
   "execution_count": null,
   "metadata": {},
   "outputs": [],
   "source": [
    "# 1. Fetching / Select Columns\n",
    "# Using Operater .\n",
    "table3.BUSAGE #Select 1 columns"
   ]
  },
  {
   "cell_type": "code",
   "execution_count": null,
   "metadata": {},
   "outputs": [],
   "source": [
    "# Select Multi Columns\n",
    "table3[[\"BUSAGE\"]]   # Output the Data Frame\n",
    "table3[[\"BUSAGE\",\"MAXLINEUTIL\"]]"
   ]
  },
  {
   "cell_type": "code",
   "execution_count": null,
   "metadata": {},
   "outputs": [],
   "source": [
    "# 1.3 User of Loc and iLoc\n",
    "# table3.loc[,]\n",
    "# [row index/names, column index/names]\n",
    "table3.loc[:,[\"BUSAGE\",\"MAXLINEUTIL\"]]  # : meaning all \"ROWS\""
   ]
  },
  {
   "cell_type": "code",
   "execution_count": null,
   "metadata": {},
   "outputs": [],
   "source": [
    "# Select 1st 10 rows from the table, columns with names \"BUSAGE\",\"MAXLINEUTIL\"\n",
    "table3.loc[0:9,[\"BUSAGE\",\"MAXLINEUTIL\"]]  # Loc get all 0:9 Index"
   ]
  },
  {
   "cell_type": "code",
   "execution_count": null,
   "metadata": {},
   "outputs": [],
   "source": [
    "table3.info()"
   ]
  },
  {
   "cell_type": "code",
   "execution_count": null,
   "metadata": {},
   "outputs": [],
   "source": [
    "DoB = \"15Dec1970\"\n",
    "# 15 - Day\n",
    "# Dec - Month\n",
    "# Year"
   ]
  },
  {
   "cell_type": "code",
   "execution_count": null,
   "metadata": {},
   "outputs": [],
   "source": [
    "pd.to_datetime(DoB, format = \"%d%b%Y\")"
   ]
  },
  {
   "cell_type": "code",
   "execution_count": null,
   "metadata": {},
   "outputs": [],
   "source": [
    "DoB = [\"21Mar1990\",\"13Dec1993\",\"17Jan1989\",\"15Jul1970\"]"
   ]
  },
  {
   "cell_type": "code",
   "execution_count": null,
   "metadata": {},
   "outputs": [],
   "source": [
    "pd.to_datetime(DoB, format = \"%d%b%Y\")"
   ]
  },
  {
   "cell_type": "code",
   "execution_count": null,
   "metadata": {},
   "outputs": [],
   "source": [
    "DoB"
   ]
  },
  {
   "cell_type": "code",
   "execution_count": null,
   "metadata": {},
   "outputs": [],
   "source": [
    "# Task\n",
    "# Convert \"\" to datetime\n",
    "# 2. For the above series DoB, caculate age of all the values\n",
    "# Find out to get today's date"
   ]
  },
  {
   "cell_type": "code",
   "execution_count": null,
   "metadata": {},
   "outputs": [],
   "source": [
    "pd.Series(DoB)"
   ]
  },
  {
   "cell_type": "code",
   "execution_count": null,
   "metadata": {},
   "outputs": [],
   "source": [
    "pd.to_datetime(pd.Series(DoB), format = \"%d%b%Y\")"
   ]
  },
  {
   "cell_type": "code",
   "execution_count": null,
   "metadata": {},
   "outputs": [],
   "source": [
    "DoB_date = pd.to_datetime(pd.Series(DoB), format = \"%d%b%Y\")"
   ]
  },
  {
   "cell_type": "code",
   "execution_count": null,
   "metadata": {},
   "outputs": [],
   "source": [
    "type(DoB_date)"
   ]
  },
  {
   "cell_type": "code",
   "execution_count": null,
   "metadata": {},
   "outputs": [],
   "source": [
    "# If any column/Series is datetime object, then \"dt\" get added to it\n",
    "DoB_date.dt\n",
    "\n",
    "print(dir(DoB_date.dt))"
   ]
  },
  {
   "cell_type": "code",
   "execution_count": null,
   "metadata": {},
   "outputs": [],
   "source": [
    "DoB_date.dt.day"
   ]
  },
  {
   "cell_type": "code",
   "execution_count": null,
   "metadata": {},
   "outputs": [],
   "source": [
    "DoB_date.dt.year"
   ]
  },
  {
   "cell_type": "code",
   "execution_count": null,
   "metadata": {},
   "outputs": [],
   "source": [
    "?DoB_date.dt.year\n",
    "?pd.read_csv"
   ]
  },
  {
   "cell_type": "code",
   "execution_count": null,
   "metadata": {},
   "outputs": [],
   "source": [
    "DoB_date.dt.quarter"
   ]
  },
  {
   "cell_type": "code",
   "execution_count": null,
   "metadata": {},
   "outputs": [],
   "source": [
    "# Change or Rename Columns\n",
    "# Rename Columns\n",
    "# {\"OldName - Exiting name\":\"NewName\"}\n",
    "table3.rename(columns = {\"BUSAGE\":\"BUSAGE1\"})\n",
    "# Renaming takes place and result is saved in another table3"
   ]
  },
  {
   "cell_type": "code",
   "execution_count": null,
   "metadata": {},
   "outputs": [],
   "source": [
    "table3"
   ]
  },
  {
   "cell_type": "code",
   "execution_count": null,
   "metadata": {},
   "outputs": [],
   "source": [
    "# Add a Columns\n",
    "# Add TOTAL = TOTACBAL Columns to table3\n",
    "# table3.assign(newcol = ...,newcol2 = ...)\n",
    "table3 = table3.assign(TOTAL = table3.TOTACBAL)"
   ]
  },
  {
   "cell_type": "code",
   "execution_count": null,
   "metadata": {},
   "outputs": [],
   "source": [
    "table3"
   ]
  },
  {
   "cell_type": "code",
   "execution_count": null,
   "metadata": {},
   "outputs": [],
   "source": [
    "table3.drop(columns=\"TOTAL\")"
   ]
  },
  {
   "cell_type": "code",
   "execution_count": null,
   "metadata": {},
   "outputs": [],
   "source": [
    "# Rearraging columns\n",
    "table3 = table3.assign(TOTAL = table3.TOTACBAL)\n",
    "table3.iloc[0:10,[0,1,2]]"
   ]
  },
  {
   "cell_type": "code",
   "execution_count": null,
   "metadata": {},
   "outputs": [],
   "source": [
    "table3.shape"
   ]
  },
  {
   "cell_type": "code",
   "execution_count": null,
   "metadata": {
    "scrolled": true
   },
   "outputs": [],
   "source": [
    "# 0,1,4,3,2,5\n",
    "table3.iloc[0:10,[0,1,4,3,2,5]]"
   ]
  },
  {
   "cell_type": "code",
   "execution_count": null,
   "metadata": {},
   "outputs": [],
   "source": [
    "# 1. Filtering\n",
    "# Task: Get all observation from the city/location\n",
    "subset1 = table3.loc[(table3.BUSTYPE == \"A\"),]\n",
    "#subset1\n",
    "subset1.reset_index(drop=True)"
   ]
  },
  {
   "cell_type": "code",
   "execution_count": null,
   "metadata": {},
   "outputs": [],
   "source": [
    "# Tasks: Get data where TOTACBAL 10000 - 100000\n",
    "subset2 = table3.loc[(table3.TOTACBAL > 10000) & (table3.TOTACBAL < 100000)]\n",
    "#subset2\n",
    "subset2.reset_index(drop=True)"
   ]
  },
  {
   "cell_type": "code",
   "execution_count": null,
   "metadata": {},
   "outputs": [],
   "source": [
    "# Select Columns\n",
    "subset3 = table3.loc[(table3.TOTACBAL > 10000) & (table3.TOTACBAL < 100000),[\"BUSTYPE\",\"TOTACBAL\"]]\n",
    "#subset2\n",
    "subset3.reset_index(drop=True)"
   ]
  },
  {
   "cell_type": "code",
   "execution_count": null,
   "metadata": {},
   "outputs": [],
   "source": [
    "# Sorting\n",
    "subset3.sort_values([\"BUSTYPE\"]).reset_index(drop=True)\n",
    "subset3.sort_values([\"BUSTYPE\"],ascending = True).reset_index(drop=True)"
   ]
  },
  {
   "cell_type": "code",
   "execution_count": null,
   "metadata": {},
   "outputs": [],
   "source": [
    "sort3 = subset3.sort_values([\"BUSTYPE\",\"TOTACBAL\"], ascending=False).reset_index(drop=True)\n",
    "sort3"
   ]
  },
  {
   "cell_type": "code",
   "execution_count": null,
   "metadata": {},
   "outputs": [],
   "source": [
    "sort4 = subset3.sort_values([\"BUSTYPE\",\"TOTACBAL\"], ascending=[True,False]).reset_index(drop=True)\n",
    "sort4\n",
    "\n",
    "# Or\n",
    "sort4 = subset3.sort_values([\"BUSTYPE\",\"TOTACBAL\"], ascending=[1,0]).reset_index(drop=True)\n",
    "sort4"
   ]
  },
  {
   "cell_type": "code",
   "execution_count": null,
   "metadata": {},
   "outputs": [],
   "source": [
    "# Removing redundency\n",
    "score = pd.read_csv(\"D:\\Datasets\\Big Data\\Score.csv\")\n",
    "score"
   ]
  },
  {
   "cell_type": "code",
   "execution_count": null,
   "metadata": {},
   "outputs": [],
   "source": [
    "# Aim: to remove duplicate on a row level\n",
    "#     if all cell values are same, then it's a duplicate\n",
    "\n",
    "# Aim: to remove duplicate respect to a column\n",
    "#     \n",
    "\n",
    "# duplicate() - True if a value is repeated\n",
    "# 1,2,3,2,4,1,2,3\n",
    "# F,F,F,T,F,T,T,T\n",
    "\n",
    "score.loc[-score.duplicated(),]\n",
    "# return all the duplicated values"
   ]
  },
  {
   "cell_type": "code",
   "execution_count": null,
   "metadata": {},
   "outputs": [],
   "source": [
    "score.loc[score.duplicated(),]\n",
    "# return all unique values"
   ]
  },
  {
   "cell_type": "code",
   "execution_count": null,
   "metadata": {},
   "outputs": [],
   "source": [
    "score.loc[score.Student.duplicated(),] #Repeated values"
   ]
  },
  {
   "cell_type": "code",
   "execution_count": null,
   "metadata": {},
   "outputs": [],
   "source": [
    "score.loc[-score.Student.duplicated(),] #Unique values "
   ]
  },
  {
   "cell_type": "code",
   "execution_count": null,
   "metadata": {},
   "outputs": [],
   "source": [
    "score.drop_duplicates()"
   ]
  },
  {
   "cell_type": "code",
   "execution_count": null,
   "metadata": {},
   "outputs": [],
   "source": [
    "score.drop_duplicates([\"Student\"])"
   ]
  },
  {
   "cell_type": "code",
   "execution_count": null,
   "metadata": {},
   "outputs": [],
   "source": [
    "# Removing missing value\n",
    "stores = pd.read_csv(\"D:\\Datasets\\Big Data\\stores.csv\")\n",
    "stores"
   ]
  },
  {
   "cell_type": "code",
   "execution_count": null,
   "metadata": {},
   "outputs": [],
   "source": [
    "stores.info()"
   ]
  },
  {
   "cell_type": "code",
   "execution_count": null,
   "metadata": {},
   "outputs": [],
   "source": [
    "# The isnull() function\n",
    "stores.AcqCostPercust.isnull()\n",
    "# if a value in Series is NON then True\n",
    "\n",
    "ACQ = stores.AcqCostPercust\n",
    "ACQ\n",
    "\n",
    "ACQ.fillna(0)\n",
    "\n",
    "# Replace NaN in ACQ with mean()\n",
    "ACQ.fillna(ACQ.mean())\n",
    "\n"
   ]
  },
  {
   "cell_type": "code",
   "execution_count": null,
   "metadata": {},
   "outputs": [],
   "source": [
    "# Aggreations / Group by\n",
    "# Step 1: Group by\n",
    "temp = stores.groupby(\"Location\")\n",
    "# This step creating temp object\n",
    "\n",
    "# Step 2: Selecting the Continuos variable\n",
    "temp = temp[[\"TotalSales\"]]\n",
    "\n",
    "# Step 3\n",
    "temp.sum().reset_index()"
   ]
  },
  {
   "cell_type": "code",
   "execution_count": null,
   "metadata": {
    "scrolled": true
   },
   "outputs": [],
   "source": [
    "# Evething in 1 step\n",
    "stores.groupby([\"Location\"])[[\"TotalSales\"]].sum().reset_index()"
   ]
  },
  {
   "cell_type": "code",
   "execution_count": null,
   "metadata": {},
   "outputs": [],
   "source": [
    "# Prefix\n",
    "stores.groupby([\"Location\"])[[\"TotalSales\"]].sum().add_prefix(\"SumOf_\").reset_index()"
   ]
  },
  {
   "cell_type": "code",
   "execution_count": null,
   "metadata": {},
   "outputs": [],
   "source": [
    "# Group by Location and StoreType, find SumOfOperatingCost\n",
    "stores.groupby([\"Location\",\"StoreType\"])[[\"TotalSales\"]].sum().add_prefix(\"SumOf_\").reset_index()"
   ]
  },
  {
   "cell_type": "code",
   "execution_count": null,
   "metadata": {},
   "outputs": [],
   "source": [
    "stores.groupby([\"Location\",\"StoreType\"])[[\"TotalSales\",\"Total_Customers\"]].sum().add_prefix(\"SumOf_\").reset_index()"
   ]
  },
  {
   "cell_type": "code",
   "execution_count": null,
   "metadata": {},
   "outputs": [],
   "source": [
    "# Group by Location, find\n",
    "stores.groupby([\"Location\"])[[\"TotalSales\",\"Total_Customers\"]].sum().add_prefix(\"SumOf_\").reset_index()"
   ]
  },
  {
   "cell_type": "code",
   "execution_count": null,
   "metadata": {},
   "outputs": [],
   "source": [
    "# Group by Location, MeanOfTotalSales\n",
    "Res = stores.groupby([\"Location\"], as_index = False).agg({\"OperatingCost\":\"sum\",\"TotalSales\":\"mean\"})\n",
    "Res = Res.rename(columns = {\"OperatingCost\":\"SumOfOperatingCost\",\"TotalSales\":\"AvgOfTotalSales\"})\n",
    "Res"
   ]
  },
  {
   "cell_type": "code",
   "execution_count": null,
   "metadata": {},
   "outputs": [],
   "source": [
    "# Binning\n",
    "# Phan khoang du lieu cua mot Columns\n",
    "import numpy as np\n",
    "\n",
    "x = -10\n",
    "# if x is +, or -\n",
    "np.where((x>0),\"positive\",\"negative\")"
   ]
  },
  {
   "cell_type": "code",
   "execution_count": null,
   "metadata": {
    "scrolled": true
   },
   "outputs": [],
   "source": [
    "np.where((x==0),\"zero\",np.where((x>0),\"positive\",\"negative\"))"
   ]
  },
  {
   "cell_type": "code",
   "execution_count": null,
   "metadata": {},
   "outputs": [],
   "source": [
    "TS = stores.TotalSales\n",
    "np.where((TS<100),\"Low\",np.where(((TS>=100) & (TS <200)),\"Mid\",np.where(((TS>=200) & (TS<300)),\"High\",\"Very High\")))"
   ]
  },
  {
   "cell_type": "code",
   "execution_count": null,
   "metadata": {},
   "outputs": [],
   "source": [
    "import pandas as pd\n",
    "# Merging\n",
    "\n",
    "# Inner join\n",
    "# Outer / Left join\n",
    "\n",
    "# pd.merge()\n",
    "\n",
    "demographic = pd.read_csv(\"D:\\Datasets\\Big Data\\Demographic_Data.csv\")\n",
    "txn = pd.read_csv(\"D:\\Datasets\\Big Data\\Transaction_Summary.csv\")"
   ]
  },
  {
   "cell_type": "code",
   "execution_count": null,
   "metadata": {},
   "outputs": [],
   "source": [
    "demographic"
   ]
  },
  {
   "cell_type": "code",
   "execution_count": null,
   "metadata": {},
   "outputs": [],
   "source": [
    "txn"
   ]
  },
  {
   "cell_type": "code",
   "execution_count": null,
   "metadata": {},
   "outputs": [],
   "source": [
    "# Thuc hien Merge 2 bang so lieu\n",
    "pd.merge(left = demographic,\n",
    "         right = txn,\n",
    "         left_on = \"CustName\",\n",
    "         right_on = \"CustomerName\",\n",
    "         indicator = True\n",
    "        )"
   ]
  },
  {
   "cell_type": "code",
   "execution_count": null,
   "metadata": {},
   "outputs": [],
   "source": [
    "import pandas as pd\n",
    "\n",
    "demographic = pd.read_csv(\"D:\\Datasets\\Big Data\\Demographic_Data.csv\")\n",
    "txn = pd.read_csv(\"D:\\Datasets\\Big Data\\Salary_Data.csv\")\n",
    "txn\n",
    "#demographic"
   ]
  },
  {
   "cell_type": "code",
   "execution_count": null,
   "metadata": {},
   "outputs": [],
   "source": [
    "data = pd.read_csv(\"D:\\Datasets\\Big Data\\Demographic_Data.csv\")\n",
    "data\n"
   ]
  },
  {
   "cell_type": "code",
   "execution_count": null,
   "metadata": {},
   "outputs": [],
   "source": [
    "import numpy as np\n",
    "import matplotlib.pyplot as plt\n",
    "from matplotlib import cm\n",
    "from mpl_toolkits.mplot3d import Axes3D\n",
    "\n",
    "ox = np.arange(-5, 5, 0.25)\n",
    "oy = np.arange(-5, 5, 0.25)\n",
    "ox, oy = np.meshgrid(ox, oy)\n",
    "oz = ox**2 + oy**2 # Hàm số z = x^2 + y^2\n",
    "\n",
    "fig = plt.figure()\n",
    "graph = Axes3D(fig)\n",
    "graph.plot_surface(ox, oy, oz, cmap=cm.magma)\n",
    "\n",
    "plt.show()"
   ]
  },
  {
   "cell_type": "markdown",
   "metadata": {},
   "source": [
    "### Giải phương trình bậc hai"
   ]
  },
  {
   "cell_type": "code",
   "execution_count": null,
   "metadata": {},
   "outputs": [],
   "source": [
    "# -*- coding: utf-8 -*-\n",
    "\"\"\"\n",
    "Created on Fri Aug  2 21:41:05 2019\n",
    "\n",
    "@author: hungnd\n",
    "\"\"\"\n",
    "\n",
    "#coding:utf-8\n",
    "#Program by hungnd\n",
    "import math\n",
    "\n",
    "def pt(a,b,c):\n",
    "    delta = b*b - 4*a*c    \n",
    "    if delta > 0 :\n",
    "        x1 = (-b + math.sqrt(delta))/(2*a)\n",
    "        x2 = (-b - math.sqrt(delta))/(2*a)\n",
    "        print(\"phuong trinh bac 2 co hai nghiem phan biet\")\n",
    "        print(\"x1= %3.2f x2= %3.2f \" %(x1,x2))\n",
    "    elif delta ==0 :\n",
    "       print(\"phuong trinh co nghiem kep x1=x2= %3.2f\" %(-b/2*a))\n",
    "    else :\n",
    "       print(\"phuong trinh vo nghiem\")   \n",
    "       \n",
    "def main():   \n",
    "    print(\"Nhap lan luot he so a,b,c cua phuong trinh bac 2\")\n",
    "    a = float(input('he so a:'))\n",
    "    b = float(input('he so b:'))\n",
    "    c = float(input('he so c:'))\n",
    "    pt(a,b,c)\n",
    "\n",
    "if __name__ == '__main__':\n",
    "  main()"
   ]
  },
  {
   "cell_type": "code",
   "execution_count": null,
   "metadata": {},
   "outputs": [],
   "source": []
  }
 ],
 "metadata": {
  "kernelspec": {
   "display_name": "Python 3",
   "language": "python",
   "name": "python3"
  },
  "language_info": {
   "codemirror_mode": {
    "name": "ipython",
    "version": 3
   },
   "file_extension": ".py",
   "mimetype": "text/x-python",
   "name": "python",
   "nbconvert_exporter": "python",
   "pygments_lexer": "ipython3",
   "version": "3.8.1"
  }
 },
 "nbformat": 4,
 "nbformat_minor": 4
}
