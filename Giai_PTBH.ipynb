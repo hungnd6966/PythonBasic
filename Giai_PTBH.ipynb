{
 "cells": [
  {
   "cell_type": "code",
   "execution_count": 2,
   "metadata": {},
   "outputs": [
    {
     "name": "stdout",
     "output_type": "stream",
     "text": [
      "Nhap lan luot he so a,b,c cua phuong trinh bac 2\n",
      "he so a:2\n",
      "he so b:2\n",
      "he so c:-9\n",
      "phuong trinh bac 2 co hai nghiem phan biet\n",
      "x1= 1.68 x2= -2.68 \n"
     ]
    }
   ],
   "source": [
    "import math\n",
    "\n",
    "def giai_pt(a,b,c):\n",
    "    delta = b*b - 4*a*c\n",
    "    if delta > 0 :\n",
    "        x1 = (-b + math.sqrt(delta))/(2*a)\n",
    "        x2 = (-b - math.sqrt(delta))/(2*a)\n",
    "        print(\"phuong trinh bac 2 co hai nghiem phan biet\")\n",
    "        print(\"x1= %3.2f x2= %3.2f \" %(x1,x2))\n",
    "    elif delta ==0 :\n",
    "       print(\"phuong trinh co nghiem kep x1=x2= %3.2f\" %(-b/2*a))\n",
    "    else :\n",
    "       print(\"phuong trinh vo nghiem\")\n",
    "def main():\n",
    "    print(\"Nhap lan luot he so a,b,c cua phuong trinh bac 2\")\n",
    "    a = float(input('he so a:'))\n",
    "    b = float(input('he so b:'))\n",
    "    c = float(input('he so c:'))\n",
    "    giai_pt(a,b,c)\n",
    "if __name__ == '__main__':\n",
    "  main()"
   ]
  },
  {
   "cell_type": "code",
   "execution_count": null,
   "metadata": {},
   "outputs": [],
   "source": []
  }
 ],
 "metadata": {
  "kernelspec": {
   "display_name": "Python 3",
   "language": "python",
   "name": "python3"
  },
  "language_info": {
   "codemirror_mode": {
    "name": "ipython",
    "version": 3
   },
   "file_extension": ".py",
   "mimetype": "text/x-python",
   "name": "python",
   "nbconvert_exporter": "python",
   "pygments_lexer": "ipython3",
   "version": "3.8.1"
  }
 },
 "nbformat": 4,
 "nbformat_minor": 4
}
