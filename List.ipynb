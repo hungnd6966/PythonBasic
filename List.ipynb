{
 "cells": [
  {
   "cell_type": "markdown",
   "metadata": {},
   "source": [
    "# List - Tuple - Dictionary"
   ]
  },
  {
   "cell_type": "markdown",
   "metadata": {},
   "source": [
    "- List là kiểu dữ liệu linh hoạt nhất trong Python.\n",
    "- Nó là một dẫy (sequence) bao gồm nhiều phần tử (element).\n",
    "- List cho phép loại bỏ, hoặc thêm các phần tử vào danh sách, đồng thời cho phép cắt lát các phần tử.\n",
    "- List trong Python là kiểu dữ liệu thay đổi (mutable), nghĩa là Python sẽ không tạo một List mới lập trình viên thực hiện sửa đổi một hay nhiều phần tử trong List đó.\n"
   ]
  },
  {
   "cell_type": "markdown",
   "metadata": {},
   "source": [
    "# List - Tuple - Dictionary\n",
    ". Push\n",
    "\n",
    ". Pop(index), pop(-1)\n",
    "\n",
    ". Append(element)\n",
    "\n",
    ". Peek\n",
    "\n",
    ". Pop and Append\n",
    "\n",
    ". Extend with append: lst.append(lst1)\n",
    "\n",
    ". Extent with “+” operator: lst1 + lst2\n",
    "\n",
    ". Remove: s.remove(object)\n",
    "\n",
    ". index(x,i[,i]])\n",
    "\n",
    ". Insert(index, object)\n",
    "\n"
   ]
  },
  {
   "cell_type": "code",
   "execution_count": 2,
   "metadata": {},
   "outputs": [
    {
     "name": "stdout",
     "output_type": "stream",
     "text": [
      "Fruit List:\n",
      "['apple', 'apricot', 'banana', 'coconut', 'lemen']\n",
      " --------------------------- \n",
      "Other List:\n",
      "[100, 'one', 'two', 3]\n"
     ]
    }
   ],
   "source": [
    "fruitList = [\"apple\", \"apricot\", \"banana\",\"coconut\", \"lemen\"]\n",
    "otherList = [100, \"one\", \"two\", 3]\n",
    "\n",
    "print (\"Fruit List:\")\n",
    "print (fruitList)\n",
    "print (\" --------------------------- \")\n",
    "print (\"Other List:\")\n",
    "print (otherList)"
   ]
  },
  {
   "cell_type": "code",
   "execution_count": 4,
   "metadata": {},
   "outputs": [
    {
     "name": "stdout",
     "output_type": "stream",
     "text": [
      "Fruit:  apple\n",
      "Fruit:  apricot\n",
      "Fruit:  banana\n",
      "Fruit:  coconut\n",
      "Fruit:  plum\n",
      "Fruit:  pear\n"
     ]
    }
   ],
   "source": [
    "fruitList = [\"apple\", \"apricot\", \"banana\", \"coconut\", \"plum\", \"pear\"]\n",
    "for fruit in fruitList:\n",
    "    print(\"Fruit: \", fruit)\n"
   ]
  },
  {
   "cell_type": "code",
   "execution_count": 5,
   "metadata": {},
   "outputs": [
    {
     "name": "stdout",
     "output_type": "stream",
     "text": [
      "['apple', 'apricot', 'banana', 'coconut', 'plum', 'pear']\n",
      "Element count:  6\n",
      "Element at  0 =  apple\n",
      "Element at  1 =  apricot\n",
      "Element at  2 =  banana\n",
      "Element at  3 =  coconut\n",
      "Element at  4 =  plum\n",
      "Element at  5 =  pear\n"
     ]
    }
   ],
   "source": [
    "fruitList = [\"apple\", \"apricot\", \"banana\", \"coconut\", \"plum\", \"pear\"]\n",
    "print(fruitList)\n",
    "\n",
    "# Số phần tử\n",
    "print(\"Element count: \", len(fruitList))\n",
    "\n",
    "for i in range(0, len(fruitList)):\n",
    "    print(\"Element at \", i, \"= \", fruitList[i])"
   ]
  },
  {
   "cell_type": "code",
   "execution_count": 6,
   "metadata": {},
   "outputs": [
    {
     "name": "stdout",
     "output_type": "stream",
     "text": [
      "Sub List [1:4]  ['apricot', 'banana', 'coconut']\n"
     ]
    }
   ],
   "source": [
    "    \n",
    "# Một danh sách con chứa các phần tử từ index 1 đến 4 (1, 2, 3)\n",
    "subList = fruitList[1: 4]\n",
    "\n",
    "# ['apricot', 'banana', 'coconut']\n",
    "print(\"Sub List [1:4] \", subList)"
   ]
  },
  {
   "cell_type": "code",
   "execution_count": 8,
   "metadata": {},
   "outputs": [
    {
     "name": "stdout",
     "output_type": "stream",
     "text": [
      "Phan tu cuoi: pear\n",
      "Phan tu cuoi: pear\n"
     ]
    }
   ],
   "source": [
    "print(\"Phan tu cuoi:\",fruitList[-1])\n",
    "print(\"Phan tu cuoi:\",fruitList[len(fruitList)-1]) #index  = 5/-1"
   ]
  },
  {
   "cell_type": "code",
   "execution_count": 9,
   "metadata": {},
   "outputs": [
    {
     "name": "stdout",
     "output_type": "stream",
     "text": [
      "Phan tu cuoi: apple\n",
      "Phan tu cuoi: apple\n",
      "apple\n",
      "apricot\n",
      "banana\n",
      "coconut\n",
      "plum\n",
      "pear\n"
     ]
    }
   ],
   "source": [
    "print(\"Phan tu cuoi:\",fruitList[0])\n",
    "print(\"Phan tu cuoi:\",fruitList[-len(fruitList)])\n",
    "for i in range(-len(fruitList),0,1):\n",
    "    print(fruitList[i])\n"
   ]
  },
  {
   "cell_type": "code",
   "execution_count": 12,
   "metadata": {},
   "outputs": [
    {
     "name": "stdout",
     "output_type": "stream",
     "text": [
      "apple\n",
      "apricot\n",
      "banana\n",
      "coconut\n",
      "plum\n",
      "pear\n"
     ]
    }
   ],
   "source": [
    "for i in range(0,len(fruitList),1):\n",
    "    print(fruitList[i])"
   ]
  },
  {
   "cell_type": "code",
   "execution_count": 11,
   "metadata": {},
   "outputs": [
    {
     "name": "stdout",
     "output_type": "stream",
     "text": [
      "apple\n",
      "apricot\n",
      "banana\n",
      "coconut\n",
      "plum\n",
      "pear\n"
     ]
    }
   ],
   "source": [
    "for frut in fruitList:\n",
    "    print(frut)"
   ]
  },
  {
   "cell_type": "code",
   "execution_count": 11,
   "metadata": {},
   "outputs": [
    {
     "name": "stdout",
     "output_type": "stream",
     "text": [
      "apple\n",
      "apricot\n",
      "banana\n",
      "coconut\n",
      "plum\n",
      "pear\n"
     ]
    }
   ],
   "source": [
    "for i in range(len(fruitList)):\n",
    "    print(fruitList[i])"
   ]
  },
  {
   "cell_type": "code",
   "execution_count": 12,
   "metadata": {},
   "outputs": [
    {
     "name": "stdout",
     "output_type": "stream",
     "text": [
      "['apple', 'apricot', 'banana', 'coconut', 'plum', 'pear']\n",
      "Element count:  6\n",
      "fruitList[-1]:  pear\n",
      "fruitList[-2]:  plum\n",
      "\n",
      "\n",
      "Sub List fruitList[-4: ] \n",
      "['banana', 'coconut', 'plum', 'pear']\n",
      "\n",
      "\n",
      "Sub List fruitList[-4:-2] \n",
      "['banana', 'coconut']\n"
     ]
    }
   ],
   "source": [
    "fruitList = [\"apple\", \"apricot\", \"banana\", \"coconut\", \"plum\", \"pear\"]\n",
    "print(fruitList)\n",
    "\n",
    "print(\"Element count: \", len(fruitList))\n",
    "print(\"fruitList[-1]: \", fruitList[-1])\n",
    "print(\"fruitList[-2]: \", fruitList[-2])\n",
    "\n",
    "subList1 = fruitList[-4:]\n",
    "\n",
    "print(\"\\n\")\n",
    "print(\"Sub List fruitList[-4: ] \")\n",
    "print(subList1)\n",
    "\n",
    "subList2 = fruitList[-4:-2]\n",
    "\n",
    "print(\"\\n\")\n",
    "print(\"Sub List fruitList[-4:-2] \")\n",
    "print(subList2)\n",
    "\n"
   ]
  },
  {
   "cell_type": "markdown",
   "metadata": {},
   "source": [
    "## Cập nhật danh sách"
   ]
  },
  {
   "cell_type": "code",
   "execution_count": 13,
   "metadata": {},
   "outputs": [
    {
     "name": "stdout",
     "output_type": "stream",
     "text": [
      "Years khi chưa cập nhật:  [1991, 1995, 1992]\n",
      "Years sau khi cập nhật:  [1991, 1995, 2000]\n"
     ]
    }
   ],
   "source": [
    "years = [1991, 1995, 1992]\n",
    "\n",
    "print(\"Years khi chưa cập nhật: \", years)\n",
    "\n",
    "# Cập nhật danh sách tại vị trí 1\n",
    "years[-1] = 2000\n",
    "\n",
    "#In ra danh sách sau cập nhật\n",
    "print(\"Years sau khi cập nhật: \", years)\n"
   ]
  },
  {
   "cell_type": "markdown",
   "metadata": {},
   "source": [
    "# Thêm vào ??"
   ]
  },
  {
   "cell_type": "code",
   "execution_count": 14,
   "metadata": {},
   "outputs": [
    {
     "name": "stdout",
     "output_type": "stream",
     "text": [
      "Years khi chưa cập nhật:  [1991, 1995, 1992]\n",
      "Years sau khi cập nhật:  [1991, 1995, 1992, 2020]\n"
     ]
    }
   ],
   "source": [
    "years = [1991, 1995, 1992]\n",
    "\n",
    "print(\"Years khi chưa cập nhật: \", years)\n",
    "\n",
    "# Cập nhật danh sách tại vị trí 1\n",
    "years.append(2020)\n",
    "\n",
    "#In ra danh sách sau cập nhật\n",
    "print(\"Years sau khi cập nhật: \", years)"
   ]
  },
  {
   "cell_type": "code",
   "execution_count": 16,
   "metadata": {},
   "outputs": [
    {
     "name": "stdout",
     "output_type": "stream",
     "text": [
      "Years:  [1990, 1991, 1992, 1993, 1994, 1995, 1996]\n",
      "Cập nhật Slice: years[1:5] = [2000, 2001]\n",
      "Years:  [1990, 2000, 2001, 1995, 1996]\n"
     ]
    }
   ],
   "source": [
    "years = [1990, 1991, 1992, 1993, 1994, 1995, 1996]\n",
    "\n",
    "print(\"Years: \", years)\n",
    "\n",
    "print(\"Cập nhật Slice: years[1:5] = [2000, 2001]\")\n",
    "\n",
    "years[1:5] = [2000, 2001]\n",
    "\n",
    "print(\"Years: \", years)\n"
   ]
  },
  {
   "cell_type": "markdown",
   "metadata": {},
   "source": [
    "# Append"
   ]
  },
  {
   "cell_type": "code",
   "execution_count": 17,
   "metadata": {},
   "outputs": [
    {
     "name": "stdout",
     "output_type": "stream",
     "text": [
      "Append 2015, 2016 to list:\n",
      "Years:  [1991, 1995, 1992, 2015, 2016]\n"
     ]
    }
   ],
   "source": [
    "years = [1991, 1995, 1992]\n",
    "\n",
    "print(\"Append 2015, 2016 to list:\")\n",
    "\n",
    "# Nối (append) thêm một phần tử vào cuối danh sách.\n",
    "years.append(2015)\n",
    "years.append(2016)\n",
    "\n",
    "print(\"Years: \", years)\n"
   ]
  },
  {
   "cell_type": "markdown",
   "metadata": {},
   "source": [
    "# Insert"
   ]
  },
  {
   "cell_type": "code",
   "execution_count": 18,
   "metadata": {},
   "outputs": [
    {
     "name": "stdout",
     "output_type": "stream",
     "text": [
      "Years:  [1990, 9999, 1991, 1992, 1993, 1993, 1993, 2021, 1994]\n"
     ]
    }
   ],
   "source": [
    "years = [1990, 1991, 1992, 1993, 1993, 1993, 1994]\n",
    "\n",
    "years.insert(1, 9999)\n",
    "years.insert(-1, 2021)\n",
    "print(\"Years: \", years)\n"
   ]
  },
  {
   "cell_type": "markdown",
   "metadata": {},
   "source": [
    "# Delete"
   ]
  },
  {
   "cell_type": "code",
   "execution_count": 22,
   "metadata": {},
   "outputs": [
    {
     "name": "stdout",
     "output_type": "stream",
     "text": [
      "Years:  [1990, 1991, 1992, 1993, 1994, 1995, 1996]\n",
      "\n",
      " del years[6]:\n",
      "Years:  [1990, 1991, 1992, 1993, 1994, 1995]\n"
     ]
    }
   ],
   "source": [
    "years = [1990, 1991, 1992, 1993, 1994, 1995, 1996]\n",
    "\n",
    "print(\"Years: \", years)\n",
    "\n",
    "print(\"\\n del years[6]:\")\n",
    "# Xóa phần tử tại vị trí có index = 6.\n",
    "del years[6]\n",
    "print(\"Years: \", years)"
   ]
  },
  {
   "cell_type": "code",
   "execution_count": 23,
   "metadata": {},
   "outputs": [
    {
     "name": "stdout",
     "output_type": "stream",
     "text": [
      "\n",
      " del years[1:4]\n",
      "Years:  [1990, 1994, 1995, 1996]\n"
     ]
    }
   ],
   "source": [
    "years = [1990, 1991, 1992, 1993, 1994, 1995, 1996]\n",
    "print(\"\\n del years[1:4]\")\n",
    "\n",
    "# Xóa nhiều phần tử tại index = 1,2,3\n",
    "del years[1:4]\n",
    "print(\"Years: \", years)"
   ]
  },
  {
   "cell_type": "markdown",
   "metadata": {},
   "source": [
    "# Remove"
   ]
  },
  {
   "cell_type": "code",
   "execution_count": 26,
   "metadata": {},
   "outputs": [
    {
     "name": "stdout",
     "output_type": "stream",
     "text": [
      "Years:  [1990, 1991, 1992, 1993, 2020, 1993, 1993, 1994, 1993, 1993]\n",
      "\n",
      " years.remove(1993)\n",
      "Years:  [1991, 1992, 2020, 1993, 1993, 1994, 1993, 1993]\n"
     ]
    }
   ],
   "source": [
    "years = [1990, 1991, 1992, 1993, 2020, 1993, 1993, 1994, 1993, 1993]\n",
    "\n",
    "print(\"Years: \", years)\n",
    "\n",
    "print(\"\\n years.remove(1993)\")\n",
    "\n",
    "# Loại bỏ phần tử đầu tiên có giá trị 1993 trong danh sách\n",
    "years.remove(years[0])\n",
    "\n",
    "years.remove(1993)\n",
    "print(\"Years: \", years)\n"
   ]
  },
  {
   "cell_type": "code",
   "execution_count": 29,
   "metadata": {},
   "outputs": [
    {
     "name": "stdout",
     "output_type": "stream",
     "text": [
      "Years:  [1990, 1991, 1992, 2020, 1994, 1993, 1993]\n"
     ]
    }
   ],
   "source": [
    "years = [1990, 1991, 1992, 1993, 2020, 1993, 1993, 1994, 1993, 1993]\n",
    "for i in years:\n",
    "    if i == 1993:\n",
    "        years.remove(i)\n",
    "print(\"Years: \", years)        "
   ]
  },
  {
   "cell_type": "code",
   "execution_count": 30,
   "metadata": {},
   "outputs": [
    {
     "name": "stdout",
     "output_type": "stream",
     "text": [
      "Years:  [1990, 1991, 1992, 1993, 1994, 1993, 1993]\n",
      "\n",
      " years.remove(1993)\n",
      "Years:  [1990, 1991, 1992, 1994, 1993, 1993]\n"
     ]
    }
   ],
   "source": [
    "years = [1990, 1991, 1992, 1993, 1994, 1993, 1993]\n",
    "print(\"Years: \", years)\n",
    "print(\"\\n years.remove(1993)\")\n",
    "# Loại bỏ phần tử đầu tiên có giá trị 1993 trong danh sách\n",
    "years.remove(1993)\n",
    "print(\"Years: \", years)\n"
   ]
  },
  {
   "cell_type": "code",
   "execution_count": 32,
   "metadata": {},
   "outputs": [
    {
     "name": "stdout",
     "output_type": "stream",
     "text": [
      "list1:  [1, 2, 3]\n",
      "list2:  ['One', 'Two']\n",
      "\n",
      "\n",
      "list1 + list2:  [1, 2, 3, 'One', 'Two']\n",
      "list2 * 3:  ['One', 'Two', 'One', 'Two', 'One', 'Two']\n",
      "'Three' in list2?  False\n"
     ]
    }
   ],
   "source": [
    "list1 = [1, 2, 3]\n",
    "list2 = [\"One\", \"Two\"]\n",
    "print(\"list1: \", list1)\n",
    "print(\"list2: \", list2)\n",
    "print(\"\\n\")\n",
    "list12 = list1 + list2\n",
    "print(\"list1 + list2: \", list12)\n",
    "list2x3 = list2 * 3\n",
    "print(\"list2 * 3: \", list2x3)\n",
    "hasThree = \"Three\" in list2\n",
    "print(\"'Three' in list2? \", hasThree)"
   ]
  },
  {
   "cell_type": "code",
   "execution_count": null,
   "metadata": {},
   "outputs": [],
   "source": [
    "list1 = [1991, 1994, 1992]\n",
    "list2 = [1991, 1994, 2000, 1992]\n",
    "\n",
    "print(\"list1: \", list1)\n",
    "print(\"list2: \", list2)\n",
    "\n",
    "# Trả về số lượng phần tử của danh sách.\n",
    "print(\"len(list1): \", len(list1))\n",
    "print(\"len(list2): \", len(list2))\n",
    "\n",
    "# Giá trị lớn nhất trong danh sách (list).\n",
    "maxValue = max(list1)\n",
    "\n",
    "print(\"Max value of list1: \", maxValue)\n",
    "\n",
    "# Giá trị nhỏ nhất trong danh sách (list).\n",
    "minValue = min(list1)\n",
    "\n",
    "print(\"Min value of list1: \", minValue)\n"
   ]
  },
  {
   "cell_type": "code",
   "execution_count": 33,
   "metadata": {},
   "outputs": [
    {
     "name": "stdout",
     "output_type": "stream",
     "text": [
      "Years:  [1990, 1991, 1992, 1993, 1993, 1993, 1994]\n",
      "Years (After reverse):  [1994, 1993, 1993, 1993, 1992, 1991, 1990]\n"
     ]
    }
   ],
   "source": [
    "years = [1990, 1991, 1992, 1993, 1993, 1993, 1994]\n",
    "print(\"Years: \", years)\n",
    "# Đảo ngược danh sách.\n",
    "years.reverse()\n",
    "print(\"Years (After reverse): \", years)"
   ]
  },
  {
   "cell_type": "code",
   "execution_count": 34,
   "metadata": {},
   "outputs": [
    {
     "name": "stdout",
     "output_type": "stream",
     "text": [
      "\n",
      " - Extend:  (2001, 2002, 2003)\n",
      "Years (After extends):  [1994, 1993, 1993, 1993, 1992, 1991, 1990, 2001, 2002, 2003]\n"
     ]
    }
   ],
   "source": [
    "aTuple = (2001, 2002, 2003)\n",
    "print(\"\\n - Extend: \", aTuple)\n",
    "years.extend(aTuple)\n",
    "print(\"Years (After extends): \", years)"
   ]
  },
  {
   "cell_type": "code",
   "execution_count": 35,
   "metadata": {},
   "outputs": [
    {
     "name": "stdout",
     "output_type": "stream",
     "text": [
      "\n",
      " - Append 3000\n",
      "Years (After appends):  [1994, 1993, 1993, 1993, 1992, 1991, 1990, 2001, 2002, 2003, 3000]\n"
     ]
    }
   ],
   "source": [
    "\n",
    "print(\"\\n - Append 3000\")\n",
    "years.append(3000)\n",
    "print(\"Years (After appends): \", years)"
   ]
  },
  {
   "cell_type": "code",
   "execution_count": 36,
   "metadata": {},
   "outputs": [
    {
     "name": "stdout",
     "output_type": "stream",
     "text": [
      "\n",
      " - Remove 1993\n",
      "Years (After remove):  [1994, 1993, 1993, 1992, 1991, 1990, 2001, 2002, 2003, 3000]\n",
      "\n",
      " - years.pop()\n",
      "last element:  3000\n",
      "\n",
      "\n",
      "years.count(1993):  2\n"
     ]
    }
   ],
   "source": [
    "\n",
    "print(\"\\n - Remove 1993\")\n",
    "years.remove(1993)\n",
    "print(\"Years (After remove): \", years)\n",
    "print(\"\\n - years.pop()\")\n",
    "\n",
    "\n",
    "# Loại bỏ phần tử cuối cùng của danh sách.\n",
    "lastElement = years.pop()\n",
    "print(\"last element: \", lastElement)\n",
    "print(\"\\n\")\n",
    "# Count \n",
    "print(\"years.count(1993): \", years.count(1993))"
   ]
  },
  {
   "cell_type": "markdown",
   "metadata": {},
   "source": [
    "# Tuple\n",
    "- Tuple (bộ dữ liệu) là một dẫy (sequence) các giá trị, nó chứa nhiều phần tử (element), về cơ bản nó khá giống với List (danh sách). \n",
    "- Nhưng khác với List, Tuples là một kiểu dữ liệu bất biến (immutable), mọi thao tác cập nhập trên Tuple đều tạo ra một thực thể mới trên bộ nhớ (memory).\n",
    "- Để viết một Tuple, bạn đặt các phần tử nằm trong cặp ngoặc ( ) và ngăn cách nhau bởi dấu phẩy. Các phần tử trong danh sách được đánh chỉ số (index) bắt đầu từ chỉ số 0.\n"
   ]
  },
  {
   "cell_type": "code",
   "execution_count": 37,
   "metadata": {},
   "outputs": [],
   "source": [
    "fruitTuple = (\"apple\", \"apricot\", \"banana\", \"coconut\", \"lemen\")\n",
    "\n",
    "otherTuple = (100, \"one\", \"two\", 3)\n"
   ]
  },
  {
   "cell_type": "code",
   "execution_count": 38,
   "metadata": {},
   "outputs": [
    {
     "name": "stdout",
     "output_type": "stream",
     "text": [
      "Years:  (1990, 1991, 1993, 1991, 1993, 1993, 1993)\n",
      "\n",
      "\n",
      "years.count(1993):  4\n",
      "years.index(1993):  2\n",
      "years.index(1993, 3):  4\n",
      "years.index(1993, 4, 6):  4\n"
     ]
    }
   ],
   "source": [
    "years = (1990, 1991, 1993, 1991, 1993, 1993, 1993)\n",
    "\n",
    "print(\"Years: \", years)\n",
    "\n",
    "print(\"\\n\")\n",
    "\n",
    "# Trả về số lần xuất hiện của 1993\n",
    "print(\"years.count(1993): \", years.count(1993))\n",
    "\n",
    "# Tìm vị trí xuất hiện 1993\n",
    "print(\"years.index(1993): \", years.index(1993))\n",
    "\n",
    "# Tìm vị trí xuất hiện 1993, bắt đầu từ chỉ số 3\n",
    "print(\"years.index(1993, 3): \", years.index(1993, 3))\n",
    "\n",
    "# Tìm vị trí xuất hiện 1993, bắt đầu từ chỉ số 4 tới 5 (Không bao gồm 6)\n",
    "print(\"years.index(1993, 4, 6): \", years.index(1993, 4, 6))\n",
    "\n"
   ]
  },
  {
   "cell_type": "code",
   "execution_count": 39,
   "metadata": {},
   "outputs": [
    {
     "name": "stdout",
     "output_type": "stream",
     "text": [
      "Fruit:  apple\n",
      "Fruit:  apricot\n",
      "Fruit:  banana\n",
      "Fruit:  coconut\n",
      "Fruit:  plum\n",
      "Fruit:  pear\n"
     ]
    }
   ],
   "source": [
    "fruitList = [\"apple\", \"apricot\", \"banana\", \"coconut\", \"plum\", \"pear\"]\n",
    "\n",
    "for fruit in fruitList:\n",
    "    print(\"Fruit: \", fruit)\n"
   ]
  },
  {
   "cell_type": "code",
   "execution_count": null,
   "metadata": {},
   "outputs": [],
   "source": [
    "fruitList = [\"apple\", \"apricot\", \"banana\", \"coconut\", \"plum\", \"pear\"]\n",
    "\n",
    "for i in range(len(fruitList)):\n",
    "    print(\"Fruit: \", fruitList[i])"
   ]
  },
  {
   "cell_type": "code",
   "execution_count": null,
   "metadata": {},
   "outputs": [],
   "source": []
  }
 ],
 "metadata": {
  "kernelspec": {
   "display_name": "Python 3",
   "language": "python",
   "name": "python3"
  },
  "language_info": {
   "codemirror_mode": {
    "name": "ipython",
    "version": 3
   },
   "file_extension": ".py",
   "mimetype": "text/x-python",
   "name": "python",
   "nbconvert_exporter": "python",
   "pygments_lexer": "ipython3",
   "version": "3.8.1"
  }
 },
 "nbformat": 4,
 "nbformat_minor": 4
}
