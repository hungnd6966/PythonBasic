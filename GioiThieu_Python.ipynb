{
 "cells": [
  {
   "cell_type": "markdown",
   "metadata": {},
   "source": [
    "# 1. Python được sử dụng như 1 chiếc máy tính bỏ túi\n"
   ]
  },
  {
   "cell_type": "markdown",
   "metadata": {},
   "source": [
    "# Sử dụng \"#\" để ghi chú\n",
    "# Heading 1\n",
    "## Heading 2\n",
    "### Học viện Ngân hàng"
   ]
  },
  {
   "cell_type": "code",
   "execution_count": 1,
   "metadata": {},
   "outputs": [
    {
     "data": {
      "text/plain": [
       "30"
      ]
     },
     "execution_count": 1,
     "metadata": {},
     "output_type": "execute_result"
    }
   ],
   "source": [
    "a =10\n",
    "b = 20\n",
    "a+b"
   ]
  },
  {
   "cell_type": "code",
   "execution_count": 2,
   "metadata": {
    "tags": []
   },
   "outputs": [
    {
     "data": {
      "text/plain": [
       "1100"
      ]
     },
     "execution_count": 2,
     "metadata": {},
     "output_type": "execute_result"
    }
   ],
   "source": [
    "(a+b)**2 + a*b"
   ]
  },
  {
   "cell_type": "code",
   "execution_count": 3,
   "metadata": {},
   "outputs": [
    {
     "name": "stdout",
     "output_type": "stream",
     "text": [
      "1.0\n",
      "0.8939966636005579\n"
     ]
    }
   ],
   "source": [
    "import math # import thu vien thu vien Toan\n",
    "print(math.cos(0))\n",
    "print(math.sin(90))"
   ]
  },
  {
   "cell_type": "code",
   "execution_count": 4,
   "metadata": {},
   "outputs": [
    {
     "name": "stdout",
     "output_type": "stream",
     "text": [
      "14\n",
      "20\n",
      "1024\n",
      "2.0\n",
      "2.3333333333333335\n",
      "2\n",
      "1\n",
      "0.5\n",
      "0\n",
      "3\n",
      "1267650600228229401496703205376\n"
     ]
    }
   ],
   "source": [
    "print(2+3*4) #14\n",
    "print((2+3)*4) #20\n",
    "print(2**10) #1024\n",
    "print(6/3) #2.0\n",
    "print(7/3) #2.33333333333\n",
    "print(7//3) #2\n",
    "print(7%3) #1\n",
    "print(3/6) #0.5\n",
    "print(3//6) #0\n",
    "print(3%6) #3\n",
    "print(2**100) # 1267650600228229401496703205376"
   ]
  },
  {
   "cell_type": "markdown",
   "metadata": {},
   "source": [
    "# 2. Python còn dùng để phân tích dữ liệu được lưu trữ trong file excel hoặc csv và nhiều loại file dữ liệu khác nữa"
   ]
  },
  {
   "cell_type": "markdown",
   "metadata": {},
   "source": [
    "2.1 Bài toán đặt ra như sau: Sinh viên khi ra trường thường thắc mắc mình đề xuất mức lương bao nhiêu là hợp lý: Nếu cao quá thì sẽ khó được nhà tuyển dụng chấp nhận và mất luôn cơ hội làm việc, nếu thấp quá thì sẽ thiệt thòi. Để giúp trả lời câu hỏi này, chúng ta sẽ phân tích thông tin dựa trên dữ liệu khảo sát mức lương của nhân viên có kinh nghiệm từ 0-10 năm của một số ngành. Các thông tin được thu thập bao gồm\n",
    "- SoNamKinhNghiem: Số năm kinh nghiệm\n",
    "- NganhNghe: ngành nghề\n",
    "- Luong: Lương (triệu)"
   ]
  },
  {
   "cell_type": "code",
   "execution_count": 7,
   "metadata": {},
   "outputs": [
    {
     "data": {
      "text/html": [
       "<div>\n",
       "<style scoped>\n",
       "    .dataframe tbody tr th:only-of-type {\n",
       "        vertical-align: middle;\n",
       "    }\n",
       "\n",
       "    .dataframe tbody tr th {\n",
       "        vertical-align: top;\n",
       "    }\n",
       "\n",
       "    .dataframe thead th {\n",
       "        text-align: right;\n",
       "    }\n",
       "</style>\n",
       "<table border=\"1\" class=\"dataframe\">\n",
       "  <thead>\n",
       "    <tr style=\"text-align: right;\">\n",
       "      <th></th>\n",
       "      <th>SoNamKinhNghiem</th>\n",
       "      <th>Luong</th>\n",
       "      <th>NganhNghe</th>\n",
       "    </tr>\n",
       "  </thead>\n",
       "  <tbody>\n",
       "    <tr>\n",
       "      <th>0</th>\n",
       "      <td>7</td>\n",
       "      <td>26.0</td>\n",
       "      <td>KeToan</td>\n",
       "    </tr>\n",
       "    <tr>\n",
       "      <th>1</th>\n",
       "      <td>4</td>\n",
       "      <td>13.8</td>\n",
       "      <td>KeToan</td>\n",
       "    </tr>\n",
       "    <tr>\n",
       "      <th>2</th>\n",
       "      <td>8</td>\n",
       "      <td>21.5</td>\n",
       "      <td>KeToan</td>\n",
       "    </tr>\n",
       "    <tr>\n",
       "      <th>3</th>\n",
       "      <td>9</td>\n",
       "      <td>24.0</td>\n",
       "      <td>KeToan</td>\n",
       "    </tr>\n",
       "    <tr>\n",
       "      <th>4</th>\n",
       "      <td>1</td>\n",
       "      <td>7.8</td>\n",
       "      <td>KeToan</td>\n",
       "    </tr>\n",
       "    <tr>\n",
       "      <th>5</th>\n",
       "      <td>2</td>\n",
       "      <td>10.0</td>\n",
       "      <td>KeToan</td>\n",
       "    </tr>\n",
       "    <tr>\n",
       "      <th>6</th>\n",
       "      <td>4</td>\n",
       "      <td>13.5</td>\n",
       "      <td>KeToan</td>\n",
       "    </tr>\n",
       "    <tr>\n",
       "      <th>7</th>\n",
       "      <td>5</td>\n",
       "      <td>15.8</td>\n",
       "      <td>KeToan</td>\n",
       "    </tr>\n",
       "    <tr>\n",
       "      <th>8</th>\n",
       "      <td>3</td>\n",
       "      <td>12.2</td>\n",
       "      <td>KeToan</td>\n",
       "    </tr>\n",
       "    <tr>\n",
       "      <th>9</th>\n",
       "      <td>2</td>\n",
       "      <td>10.0</td>\n",
       "      <td>KeToan</td>\n",
       "    </tr>\n",
       "  </tbody>\n",
       "</table>\n",
       "</div>"
      ],
      "text/plain": [
       "   SoNamKinhNghiem  Luong NganhNghe\n",
       "0                7   26.0    KeToan\n",
       "1                4   13.8    KeToan\n",
       "2                8   21.5    KeToan\n",
       "3                9   24.0    KeToan\n",
       "4                1    7.8    KeToan\n",
       "5                2   10.0    KeToan\n",
       "6                4   13.5    KeToan\n",
       "7                5   15.8    KeToan\n",
       "8                3   12.2    KeToan\n",
       "9                2   10.0    KeToan"
      ]
     },
     "execution_count": 7,
     "metadata": {},
     "output_type": "execute_result"
    }
   ],
   "source": [
    "import math\n",
    "import pandas as pd\n",
    "#data, df:data frame, dt, \n",
    "dataset = pd.read_csv(\"input/work_data.csv\")\n",
    "dataset.tail() # Hien thi 5 dong du lieu cuoi cung\n",
    "dataset.head() # Hien thi 5 dong du lieu dau tien\n",
    "dataset.head(10) # Hien thi 10 dong du lieu dau tien"
   ]
  },
  {
   "cell_type": "code",
   "execution_count": 8,
   "metadata": {},
   "outputs": [
    {
     "data": {
      "text/html": [
       "<div>\n",
       "<style scoped>\n",
       "    .dataframe tbody tr th:only-of-type {\n",
       "        vertical-align: middle;\n",
       "    }\n",
       "\n",
       "    .dataframe tbody tr th {\n",
       "        vertical-align: top;\n",
       "    }\n",
       "\n",
       "    .dataframe thead th {\n",
       "        text-align: right;\n",
       "    }\n",
       "</style>\n",
       "<table border=\"1\" class=\"dataframe\">\n",
       "  <thead>\n",
       "    <tr style=\"text-align: right;\">\n",
       "      <th></th>\n",
       "      <th>SoNamKinhNghiem</th>\n",
       "      <th>Luong</th>\n",
       "    </tr>\n",
       "  </thead>\n",
       "  <tbody>\n",
       "    <tr>\n",
       "      <th>count</th>\n",
       "      <td>1426.000000</td>\n",
       "      <td>1426.000000</td>\n",
       "    </tr>\n",
       "    <tr>\n",
       "      <th>mean</th>\n",
       "      <td>4.894109</td>\n",
       "      <td>16.316550</td>\n",
       "    </tr>\n",
       "    <tr>\n",
       "      <th>std</th>\n",
       "      <td>3.075541</td>\n",
       "      <td>6.548031</td>\n",
       "    </tr>\n",
       "    <tr>\n",
       "      <th>min</th>\n",
       "      <td>0.000000</td>\n",
       "      <td>5.400000</td>\n",
       "    </tr>\n",
       "    <tr>\n",
       "      <th>25%</th>\n",
       "      <td>2.000000</td>\n",
       "      <td>10.900000</td>\n",
       "    </tr>\n",
       "    <tr>\n",
       "      <th>50%</th>\n",
       "      <td>5.000000</td>\n",
       "      <td>16.200000</td>\n",
       "    </tr>\n",
       "    <tr>\n",
       "      <th>75%</th>\n",
       "      <td>7.000000</td>\n",
       "      <td>21.300000</td>\n",
       "    </tr>\n",
       "    <tr>\n",
       "      <th>max</th>\n",
       "      <td>10.000000</td>\n",
       "      <td>70.000000</td>\n",
       "    </tr>\n",
       "  </tbody>\n",
       "</table>\n",
       "</div>"
      ],
      "text/plain": [
       "       SoNamKinhNghiem        Luong\n",
       "count      1426.000000  1426.000000\n",
       "mean          4.894109    16.316550\n",
       "std           3.075541     6.548031\n",
       "min           0.000000     5.400000\n",
       "25%           2.000000    10.900000\n",
       "50%           5.000000    16.200000\n",
       "75%           7.000000    21.300000\n",
       "max          10.000000    70.000000"
      ]
     },
     "execution_count": 8,
     "metadata": {},
     "output_type": "execute_result"
    }
   ],
   "source": [
    "dataset.describe()"
   ]
  },
  {
   "cell_type": "code",
   "execution_count": 9,
   "metadata": {},
   "outputs": [
    {
     "data": {
      "text/html": [
       "<div>\n",
       "<style scoped>\n",
       "    .dataframe tbody tr th:only-of-type {\n",
       "        vertical-align: middle;\n",
       "    }\n",
       "\n",
       "    .dataframe tbody tr th {\n",
       "        vertical-align: top;\n",
       "    }\n",
       "\n",
       "    .dataframe thead th {\n",
       "        text-align: right;\n",
       "    }\n",
       "</style>\n",
       "<table border=\"1\" class=\"dataframe\">\n",
       "  <thead>\n",
       "    <tr style=\"text-align: right;\">\n",
       "      <th></th>\n",
       "      <th>SoNamKinhNghiem</th>\n",
       "      <th>Luong</th>\n",
       "      <th>NganhNghe</th>\n",
       "    </tr>\n",
       "  </thead>\n",
       "  <tbody>\n",
       "    <tr>\n",
       "      <th>0</th>\n",
       "      <td>7</td>\n",
       "      <td>26.0</td>\n",
       "      <td>KeToan</td>\n",
       "    </tr>\n",
       "    <tr>\n",
       "      <th>1</th>\n",
       "      <td>4</td>\n",
       "      <td>13.8</td>\n",
       "      <td>KeToan</td>\n",
       "    </tr>\n",
       "    <tr>\n",
       "      <th>2</th>\n",
       "      <td>8</td>\n",
       "      <td>21.5</td>\n",
       "      <td>KeToan</td>\n",
       "    </tr>\n",
       "    <tr>\n",
       "      <th>3</th>\n",
       "      <td>9</td>\n",
       "      <td>24.0</td>\n",
       "      <td>KeToan</td>\n",
       "    </tr>\n",
       "    <tr>\n",
       "      <th>4</th>\n",
       "      <td>1</td>\n",
       "      <td>7.8</td>\n",
       "      <td>KeToan</td>\n",
       "    </tr>\n",
       "  </tbody>\n",
       "</table>\n",
       "</div>"
      ],
      "text/plain": [
       "   SoNamKinhNghiem  Luong NganhNghe\n",
       "0                7   26.0    KeToan\n",
       "1                4   13.8    KeToan\n",
       "2                8   21.5    KeToan\n",
       "3                9   24.0    KeToan\n",
       "4                1    7.8    KeToan"
      ]
     },
     "execution_count": 9,
     "metadata": {},
     "output_type": "execute_result"
    }
   ],
   "source": [
    "import pandas as pd # Khai báo thư viện hỗ trợ đọc và phân tích dữ liệu ở dạng bảng\n",
    "dataset = pd.read_csv(\"input/work_data.csv\") # Lấy dữ liệu từ file work_data.csv \n",
    "# trong folder \"input\" đê phân tích và đặt tên dữ liệu đó là dataset\n",
    "dataset.head() # xem 6 dòng đầu tiên của bảng dữ liệu"
   ]
  },
  {
   "cell_type": "markdown",
   "metadata": {},
   "source": [
    "## 2.2 Mô tả bộ dữ liệu"
   ]
  },
  {
   "cell_type": "code",
   "execution_count": 10,
   "metadata": {},
   "outputs": [
    {
     "data": {
      "text/plain": [
       "(1426, 3)"
      ]
     },
     "execution_count": 10,
     "metadata": {},
     "output_type": "execute_result"
    }
   ],
   "source": [
    "dataset.shape # số lượng quan sát"
   ]
  },
  {
   "cell_type": "code",
   "execution_count": 11,
   "metadata": {},
   "outputs": [
    {
     "data": {
      "text/html": [
       "<div>\n",
       "<style scoped>\n",
       "    .dataframe tbody tr th:only-of-type {\n",
       "        vertical-align: middle;\n",
       "    }\n",
       "\n",
       "    .dataframe tbody tr th {\n",
       "        vertical-align: top;\n",
       "    }\n",
       "\n",
       "    .dataframe thead th {\n",
       "        text-align: right;\n",
       "    }\n",
       "</style>\n",
       "<table border=\"1\" class=\"dataframe\">\n",
       "  <thead>\n",
       "    <tr style=\"text-align: right;\">\n",
       "      <th></th>\n",
       "      <th>SoNamKinhNghiem</th>\n",
       "      <th>Luong</th>\n",
       "    </tr>\n",
       "  </thead>\n",
       "  <tbody>\n",
       "    <tr>\n",
       "      <th>count</th>\n",
       "      <td>1426.000000</td>\n",
       "      <td>1426.000000</td>\n",
       "    </tr>\n",
       "    <tr>\n",
       "      <th>mean</th>\n",
       "      <td>4.894109</td>\n",
       "      <td>16.316550</td>\n",
       "    </tr>\n",
       "    <tr>\n",
       "      <th>std</th>\n",
       "      <td>3.075541</td>\n",
       "      <td>6.548031</td>\n",
       "    </tr>\n",
       "    <tr>\n",
       "      <th>min</th>\n",
       "      <td>0.000000</td>\n",
       "      <td>5.400000</td>\n",
       "    </tr>\n",
       "    <tr>\n",
       "      <th>25%</th>\n",
       "      <td>2.000000</td>\n",
       "      <td>10.900000</td>\n",
       "    </tr>\n",
       "    <tr>\n",
       "      <th>50%</th>\n",
       "      <td>5.000000</td>\n",
       "      <td>16.200000</td>\n",
       "    </tr>\n",
       "    <tr>\n",
       "      <th>75%</th>\n",
       "      <td>7.000000</td>\n",
       "      <td>21.300000</td>\n",
       "    </tr>\n",
       "    <tr>\n",
       "      <th>max</th>\n",
       "      <td>10.000000</td>\n",
       "      <td>70.000000</td>\n",
       "    </tr>\n",
       "  </tbody>\n",
       "</table>\n",
       "</div>"
      ],
      "text/plain": [
       "       SoNamKinhNghiem        Luong\n",
       "count      1426.000000  1426.000000\n",
       "mean          4.894109    16.316550\n",
       "std           3.075541     6.548031\n",
       "min           0.000000     5.400000\n",
       "25%           2.000000    10.900000\n",
       "50%           5.000000    16.200000\n",
       "75%           7.000000    21.300000\n",
       "max          10.000000    70.000000"
      ]
     },
     "execution_count": 11,
     "metadata": {},
     "output_type": "execute_result"
    }
   ],
   "source": [
    "dataset.describe() "
   ]
  },
  {
   "cell_type": "code",
   "execution_count": 12,
   "metadata": {},
   "outputs": [
    {
     "data": {
      "image/png": "[encoded data removed]",
      "text/plain": [
       "<Figure size 432x288 with 1 Axes>"
      ]
     },
     "metadata": {
      "needs_background": "light"
     },
     "output_type": "display_data"
    }
   ],
   "source": [
    "import matplotlib.pyplot as plt  # Khai báo thư viện để vẽ biểu đồ\n",
    "dataset.plot(x='SoNamKinhNghiem', y='Luong', style='o')  \n",
    "plt.title('số năm kinh nghiệm - lương')  \n",
    "plt.xlabel('số năm kinh nghiệm')  \n",
    "plt.ylabel('lương')  \n",
    "plt.show()"
   ]
  },
  {
   "cell_type": "code",
   "execution_count": 13,
   "metadata": {},
   "outputs": [
    {
     "data": {
      "image/png": "[encoded data removed]",
      "text/plain": [
       "<Figure size 432x288 with 1 Axes>"
      ]
     },
     "metadata": {
      "needs_background": "light"
     },
     "output_type": "display_data"
    }
   ],
   "source": [
    "# vẽ biểu đồ histogram\n",
    "plt.hist(dataset['Luong'],20)\n",
    "plt.show()"
   ]
  },
  {
   "cell_type": "code",
   "execution_count": 14,
   "metadata": {
    "tags": []
   },
   "outputs": [
    {
     "name": "stdout",
     "output_type": "stream",
     "text": [
      "Kết cấu bộ dữ liệu\n",
      "Số lượng mẫu nhân viên kế toán: 472\n",
      "Số lượng mẫu nhân viên HCNH: 566\n",
      "Số lượng mẫu nhân viên SALE: 388\n"
     ]
    }
   ],
   "source": [
    "df_keToan = dataset[dataset[\"NganhNghe\"] == \"KeToan\"]\n",
    "df_hcnh = dataset[dataset[\"NganhNghe\"] == \"HCNS\"]\n",
    "df_sale = dataset[dataset[\"NganhNghe\"] == \"Sale\"]\n",
    "\n",
    "print (\"Kết cấu bộ dữ liệu\")\n",
    "print (\"Số lượng mẫu nhân viên kế toán: \" + str(df_keToan.shape[0]))\n",
    "print (\"Số lượng mẫu nhân viên HCNH: \" + str(df_hcnh.shape[0]))\n",
    "print (\"Số lượng mẫu nhân viên SALE: \" + str(df_sale.shape[0]))\n"
   ]
  },
  {
   "cell_type": "code",
   "execution_count": 15,
   "metadata": {},
   "outputs": [
    {
     "data": {
      "text/plain": [
       "NganhNghe\n",
       "HCNS      16.556537\n",
       "KeToan    15.645975\n",
       "Sale      16.782216\n",
       "Name: Luong, dtype: float64"
      ]
     },
     "execution_count": 15,
     "metadata": {},
     "output_type": "execute_result"
    }
   ],
   "source": [
    "n_by_nganhNghe = dataset.groupby(\"NganhNghe\")[\"Luong\"].mean()\n",
    "n_by_nganhNghe"
   ]
  },
  {
   "cell_type": "code",
   "execution_count": 16,
   "metadata": {},
   "outputs": [
    {
     "data": {
      "image/png": "[encoded data removed]",
      "text/plain": [
       "<Figure size 432x288 with 1 Axes>"
      ]
     },
     "metadata": {
      "needs_background": "light"
     },
     "output_type": "display_data"
    }
   ],
   "source": [
    "# Biểu đồ phân bố lương của nhân viên Kế toán\n",
    "plt.boxplot(df_keToan['Luong'])\n",
    "plt.show()"
   ]
  },
  {
   "cell_type": "code",
   "execution_count": 17,
   "metadata": {},
   "outputs": [],
   "source": [
    "# Bài tập: Vẽ box plot lương của nhân viên ngành HCNS và Sale "
   ]
  },
  {
   "cell_type": "markdown",
   "metadata": {},
   "source": [
    "## 2.3 Xây dựng model dự đoán tiền lương theo số năm kinh nghiệm\n"
   ]
  },
  {
   "cell_type": "code",
   "execution_count": 18,
   "metadata": {
    "tags": []
   },
   "outputs": [
    {
     "name": "stdout",
     "output_type": "stream",
     "text": [
      "Mô hình hồi quy sẽ có dạng: Lương = a + b * số năm kinh nghiệm \n",
      "với các hệ số a và b lần lượt là\n",
      "[6.35592115]\n",
      "[[2.03289729]]\n"
     ]
    }
   ],
   "source": [
    "from sklearn.model_selection import train_test_split \n",
    "from sklearn.linear_model import LinearRegression\n",
    "\n",
    "X = dataset['SoNamKinhNghiem'].values.reshape(-1,1)\n",
    "y = dataset['Luong'].values.reshape(-1,1)\n",
    "# chia bộ dữ liệu làm 2 tập train và test theo tỉ lệ 80% train, 20% test\n",
    "X_train, X_test, y_train, y_test = train_test_split(X, y, test_size=0.2, random_state=0) \n",
    "regressor = LinearRegression()  # Khai báo mô hình hồi quy tuyến tính\n",
    "regressor.fit(X_train, y_train) #Huấn luyện mô hình\n",
    "print(\"Mô hình hồi quy sẽ có dạng: Lương = a + b * số năm kinh nghiệm \\nvới các hệ số a và b lần lượt là\")\n",
    "print(regressor.intercept_)\n",
    "#For retrieving the slope:\n",
    "print(regressor.coef_)"
   ]
  },
  {
   "cell_type": "markdown",
   "metadata": {},
   "source": [
    "## Đánh giá tính chính xác của mô hình"
   ]
  },
  {
   "cell_type": "code",
   "execution_count": 19,
   "metadata": {
    "tags": []
   },
   "outputs": [
    {
     "name": "stdout",
     "output_type": "stream",
     "text": [
      "R2 trên tập huấn luyện của model là:0.9318331044271062\n",
      "R2 trên tập kiểm tra của model là:0.8762196686203844\n",
      "\n",
      "\n",
      "đánh giá năng lực dự báo trung bình trên tập test\n",
      "Sai số dự báo trung bình: 0.5566819767125354\n"
     ]
    }
   ],
   "source": [
    "y_pred = regressor.predict(X_test) # dự đoán trên số năm kinh nghiệm của bộ dữ liệu test\n",
    "## tính toán R2 của model\n",
    "import sklearn.metrics as metrics\n",
    "from sklearn.metrics import r2_score\n",
    "r2_train = r2_score(y_train, regressor.predict(X_train))\n",
    "print(\"R2 trên tập huấn luyện của model là:\" + str(r2_train))\n",
    "r2_test = r2_score(y_test, y_pred)\n",
    "print(\"R2 trên tập kiểm tra của model là:\" + str(r2_test))\n",
    "\n",
    "df = pd.DataFrame({'số năm kinh nghiệm': X_test.flatten(), 'Lương Thực tế': y_test.flatten(), 'Lương Dự báo': y_pred.flatten()})\n",
    "print(\"\\n\") # xuống dòng\n",
    "print(\"đánh giá năng lực dự báo trung bình trên tập test\")\n",
    "print('Sai số dự báo trung bình:', metrics.mean_absolute_error(y_test, y_pred))  \n"
   ]
  },
  {
   "cell_type": "code",
   "execution_count": 20,
   "metadata": {
    "tags": []
   },
   "outputs": [
    {
     "data": {
      "image/png": "[encoded data removed]",
      "text/plain": [
       "<Figure size 432x288 with 1 Axes>"
      ]
     },
     "metadata": {
      "needs_background": "light"
     },
     "output_type": "display_data"
    }
   ],
   "source": [
    "plt.scatter(X_test, y_test,  color='gray')\n",
    "plt.plot(X_test, y_pred, color='red', linewidth=2)\n",
    "plt.show()"
   ]
  },
  {
   "cell_type": "markdown",
   "metadata": {},
   "source": [
    "## Hướng dẫn lưu trữ và sử dụng mô hình sau đã huấn luyện"
   ]
  },
  {
   "cell_type": "code",
   "execution_count": 23,
   "metadata": {},
   "outputs": [
    {
     "data": {
      "text/plain": [
       "array([[ 8.38881844],\n",
       "       [10.42171574],\n",
       "       [14.48751032]])"
      ]
     },
     "execution_count": 23,
     "metadata": {},
     "output_type": "execute_result"
    }
   ],
   "source": [
    "# lưu trữ mô hình vào máy tính\n",
    "import pickle # thư viện  giúp lưu trữ mô hình\n",
    "filename = 'model.sav'\n",
    "pickle.dump(regressor, open(filename, 'wb'))\n",
    "\n",
    "# Some time later.....str\n",
    "# sử dụng mô hình\n",
    "#loaded_model = LinearRegression()\n",
    "loaded_model = pickle.load(open(filename, 'rb'))\n",
    "x = [[1],[2],[4]]\n",
    "y_pred = loaded_model.predict(x)\n",
    "y_pred"
   ]
  },
  {
   "cell_type": "code",
   "execution_count": null,
   "metadata": {},
   "outputs": [],
   "source": []
  },
  {
   "cell_type": "code",
   "execution_count": null,
   "metadata": {},
   "outputs": [],
   "source": []
  }
 ],
 "metadata": {
  "kernelspec": {
   "display_name": "Python 3",
   "language": "python",
   "name": "python3"
  },
  "language_info": {
   "codemirror_mode": {
    "name": "ipython",
    "version": 3
   },
   "file_extension": ".py",
   "mimetype": "text/x-python",
   "name": "python",
   "nbconvert_exporter": "python",
   "pygments_lexer": "ipython3",
   "version": "3.8.1"
  }
 },
 "nbformat": 4,
 "nbformat_minor": 4
}
