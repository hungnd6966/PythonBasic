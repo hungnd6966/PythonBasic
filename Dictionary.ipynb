{
 "cells": [
  {
   "cell_type": "code",
   "execution_count": 2,
   "metadata": {},
   "outputs": [
    {
     "name": "stdout",
     "output_type": "stream",
     "text": [
      "{'Name': 'Le Van A', 'Age': 35, 'Country': 'Vietnam', 'gioitinh': 'Nam'}\n"
     ]
    }
   ],
   "source": [
    "# Dictionary\n",
    "_info = {\"Name\": \"Le Van A\", \"Age\": 35, \"Country\": \"Vietnam\", \"gioitinh\": \"Nam\"}\n",
    "print(_info)"
   ]
  },
  {
   "cell_type": "code",
   "execution_count": 4,
   "metadata": {},
   "outputs": [
    {
     "name": "stdout",
     "output_type": "stream",
     "text": [
      "Dictionary:  {'Name': 'Nguyen Van B', 'Age': 25, 'Gtinh': 'Nam'}\n"
     ]
    }
   ],
   "source": [
    "# Tạo một dictionary thông qua constructor của lớp dict.\n",
    "_diction = dict()\n",
    "_diction[\"Name\"] = \"Nguyen Van B\"\n",
    "_diction[\"Age\"] = 25\n",
    "_diction[\"Gtinh\"] = \"Nam\"\n",
    "print(\"Dictionary: \", _diction)\n"
   ]
  },
  {
   "cell_type": "code",
   "execution_count": 3,
   "metadata": {},
   "outputs": [
    {
     "name": "stdout",
     "output_type": "stream",
     "text": [
      "Dictionary:  {1: 'One', 2: 'Two', 3: 'Tree'}\n"
     ]
    }
   ],
   "source": [
    "# Code 1\n",
    "_dict = dict()\n",
    "_dict[1] = \"One\"\n",
    "_dict[2] = 'Two'\n",
    "_dict[3] = 'Tree'\n",
    "print(\"Dictionary: \", _dict)"
   ]
  },
  {
   "cell_type": "code",
   "execution_count": 5,
   "metadata": {},
   "outputs": [
    {
     "name": "stdout",
     "output_type": "stream",
     "text": [
      "Dictionary:  {1: 'One', '2': 'Two', 2: 'Three'}\n"
     ]
    }
   ],
   "source": [
    "# Code 2\n",
    "_dict = {1: \"One\", '2': 'Two', 2: \"Three\"}\n",
    "print(\"Dictionary: \", _dict)\n"
   ]
  },
  {
   "cell_type": "code",
   "execution_count": 6,
   "metadata": {},
   "outputs": [
    {
     "name": "stdout",
     "output_type": "stream",
     "text": [
      "Dictionary:  {1: 'One', 2: 'Three'}\n"
     ]
    }
   ],
   "source": [
    "#Code 3\n",
    "_dict = {1: \"One\", 2: 'Two', 2: \"Three\"}\n",
    "print(\"Dictionary: \", _dict)\n"
   ]
  },
  {
   "cell_type": "code",
   "execution_count": 7,
   "metadata": {},
   "outputs": [
    {
     "name": "stdout",
     "output_type": "stream",
     "text": [
      "Dictionary:  Three\n",
      "Dictionary:  Two\n"
     ]
    }
   ],
   "source": [
    "#Code 1\n",
    "_dict = {1: \"One\", '2': 'Two', 2: \"Three\", 4: 'Four', 5: 'Five'}\n",
    "print(\"Dictionary: \", _dict[2])\n",
    "print(\"Dictionary: \", _dict['2'])\n"
   ]
  },
  {
   "cell_type": "code",
   "execution_count": 9,
   "metadata": {},
   "outputs": [
    {
     "name": "stdout",
     "output_type": "stream",
     "text": [
      "Dictionary:  Python\n",
      "Dictionary:  Two\n"
     ]
    }
   ],
   "source": [
    "# Code 2\n",
    "_dict = {'Name': \"Python\", \"2\": 'Two', 2: \"Three\", 4: 'Four', 5: 'Five'}\n",
    "print(\"Dictionary: \", _dict['Name'])\n",
    "print(\"Dictionary: \", _dict['2'])\n"
   ]
  },
  {
   "cell_type": "code",
   "execution_count": 10,
   "metadata": {},
   "outputs": [
    {
     "name": "stdout",
     "output_type": "stream",
     "text": [
      "Element count:  4\n",
      "New dict:  {'Name': 'Tran', 'Age': 37, 'Address': 'HCM Vietnam', 'Phone': '12345'}\n",
      "_info['Name'] =  Tran\n",
      "_info['Age'] =  37\n",
      "_info['Address'] =  HCM Vietnam\n",
      "_info['Phone'] =  12345\n"
     ]
    }
   ],
   "source": [
    "# Dictionary\n",
    "_info = {\"Name\": \"Tran\", \"Age\": 37, \"Address\": \"Vietnam\"}\n",
    "# Cập nhập giá trị cho khóa (key) 'Address'\n",
    "_info[\"Address\"] = \"HCM Vietnam\"\n",
    "# Thêm một phần tử mới với khóa (key) là 'Phone'.\n",
    "_info[\"Phone\"] = \"12345\"\n",
    "print(\"Element count: \", len(_info))\n",
    "print('New dict: ', _info)\n",
    "print(\"_info['Name'] = \", _info[\"Name\"])\n",
    "print(\"_info['Age'] = \", _info[\"Age\"])\n",
    "print(\"_info['Address'] = \", _info[\"Address\"])\n",
    "print(\"_info['Phone'] = \", _info[\"Phone\"])"
   ]
  },
  {
   "cell_type": "code",
   "execution_count": 11,
   "metadata": {},
   "outputs": [
    {
     "name": "stdout",
     "output_type": "stream",
     "text": [
      "Element count:  4\n",
      "New dict:  {'Name': 'Tran', 'Age': 37, 'Address': 'HCM Vietnam', 'Phone': '12345'}\n",
      "info['Name'] =  Tran\n",
      "info['Age'] =  37\n",
      "info['Address'] =  HCM Vietnam\n",
      "info['Phone'] =  12345\n"
     ]
    }
   ],
   "source": [
    "# Dictionary\n",
    "info = {\"Name\": \"Tran\", \"Age\": 37, \"Address\": \"Vietnam\"}\n",
    "# Cập nhập giá trị cho khóa (key) 'Address'\n",
    "info[\"Address\"] = \"HCM Vietnam\"\n",
    "# Thêm một phần tử mới với khóa (key) là 'Phone'.\n",
    "info[\"Phone\"] = \"12345\"\n",
    "print(\"Element count: \", len(info))\n",
    "print('New dict: ', info)\n",
    "print(\"info['Name'] = \", info[\"Name\"])\n",
    "print(\"info['Age'] = \", info[\"Age\"])\n",
    "print(\"info['Address'] = \", info[\"Address\"])\n",
    "print(\"info['Phone'] = \", info[\"Phone\"])"
   ]
  },
  {
   "cell_type": "code",
   "execution_count": 12,
   "metadata": {},
   "outputs": [
    {
     "name": "stdout",
     "output_type": "stream",
     "text": [
      "{'Name': 'Update name', 'Age': 37, 'Address': 'Vietnam', 'key_1': 'value_1'}\n"
     ]
    }
   ],
   "source": [
    "_info = {\"Name\": \"Tran\", \"Age\": 37, \"Address\": \"Vietnam\"}\n",
    "_info.update({'key_1': 'value_1', \"Name\": \"Update name\"})\n",
    "print(_info)\n"
   ]
  },
  {
   "cell_type": "code",
   "execution_count": 13,
   "metadata": {},
   "outputs": [
    {
     "ename": "SyntaxError",
     "evalue": "invalid syntax (<ipython-input-13-039e9700cac8>, line 12)",
     "output_type": "error",
     "traceback": [
      "\u001b[1;36m  File \u001b[1;32m\"<ipython-input-13-039e9700cac8>\"\u001b[1;36m, line \u001b[1;32m12\u001b[0m\n\u001b[1;33m    print(\"Clear all element\")\u001b[0m\n\u001b[1;37m                              ^\u001b[0m\n\u001b[1;31mSyntaxError\u001b[0m\u001b[1;31m:\u001b[0m invalid syntax\n"
     ]
    }
   ],
   "source": [
    "# (Key,Value) = (Tên, Số điện thoại)\n",
    "contacts = {\"An\": \"01217000111\", \"Binh\": \"01234000111\", \"Tam\": \"01217000222\"}\n",
    "print(\"Contacts: \", contacts)\n",
    "print(\"Delete key = 'An' \")\n",
    "# Xóa một phần tử ứng với khóa 'An'\n",
    "del contacts[\"An\"]\n",
    "print(\"Contacts (After delete): \", contacts)\n",
    "print(\"Delete key = 'Binh' \")\n",
    "# Xóa một phần tử ứng với khóa 'Binh'\n",
    "contacts.__delitem__(\"Binh\")\n",
    "print(\"Contacts (After delete): \", contacts)\n",
    "print(\"Clear all element\")\u000b",
    "# Xóa toàn bộ các phần tử.\n",
    "contacts.clear()\u000b",
    "print(\"Contacts (After clear): \", contacts)\n",
    "# Xóa luôn dictionary 'contacts' khỏi bộ nhớ\n",
    "del contacts\n",
    "# Lỗi xẩy ra khi truy cập vào biến không tồn tại trên bộ nhớ\n",
    "print(\"Contacts (After delete): \", contacts)\n"
   ]
  },
  {
   "cell_type": "code",
   "execution_count": 14,
   "metadata": {},
   "outputs": [
    {
     "name": "stdout",
     "output_type": "stream",
     "text": [
      "contacts:  {'An': '01217000111', 'Binh': '01234000111', 'Tam': '01217000222'}\n",
      "Element count:  3\n",
      "str(contacts):  {'An': '01217000111', 'Binh': '01234000111', 'Tam': '01217000222'}\n",
      "str(contacts) - From 0 - 6:  {'An':\n",
      "str(contacts) - 0:  {\n",
      "type(contacts):  <class 'dict'>\n"
     ]
    }
   ],
   "source": [
    "# (Key,Value) = (Tên, Số điện thoại)\n",
    "_contacts = {\"An\": \"01217000111\", \"Binh\": \"01234000111\", \"Tam\": \"01217000222\"}\n",
    "print(\"contacts: \", _contacts)\n",
    "\n",
    "print(\"Element count: \", len(_contacts))\n",
    "\n",
    "_contactsAsString = str(_contacts)\n",
    "print(\"str(contacts): \", _contactsAsString)\n",
    "print(\"str(contacts) - From 0 - 6: \", _contactsAsString[:6])\n",
    "print(\"str(contacts) - 0: \", _contactsAsString[0])\n",
    "# Một đối tượng đại diện lớp 'dict'.\n",
    "\n",
    "aType = type(_contacts)\n",
    "print(\"type(contacts): \", aType)\n"
   ]
  },
  {
   "cell_type": "code",
   "execution_count": 15,
   "metadata": {},
   "outputs": [
    {
     "name": "stdout",
     "output_type": "stream",
     "text": [
      "Hello Nguyen Van A!\n"
     ]
    }
   ],
   "source": [
    "# Định nghĩa một hàm: truyền vào tên người và trả về một chuỗi.\n",
    "def sayHello(name):\n",
    "    'Hàm truyền vào tên người và trả về một chuỗi'\n",
    "    return \"Hello \" + name\n",
    "\n",
    "# Sử dụng hàm sayHello\n",
    "text = sayHello(\"Nguyen Van A!\")\n",
    "print(text)\n"
   ]
  },
  {
   "cell_type": "code",
   "execution_count": 16,
   "metadata": {},
   "outputs": [
    {
     "name": "stdout",
     "output_type": "stream",
     "text": [
      "Loi goi dau tien toi custom func!\n",
      "Loi goi thu 2 toi custom func.\n"
     ]
    }
   ],
   "source": [
    "# Phan dinh nghia ham\n",
    "def printme(str):\n",
    "    \"Chuoi nay duoc truyen vao trong ham\"\n",
    "    print(str)\n",
    "    return\n",
    "\n",
    "# Goi ham printme\n",
    "printme(\"Loi goi dau tien toi custom func!\")\n",
    "printme(\"Loi goi thu 2 toi custom func.\")\n",
    "\n"
   ]
  },
  {
   "cell_type": "code",
   "execution_count": 17,
   "metadata": {},
   "outputs": [
    {
     "name": "stdout",
     "output_type": "stream",
     "text": [
      "Gia tri cua a la 10\n"
     ]
    },
    {
     "ename": "NameError",
     "evalue": "name 'a' is not defined",
     "output_type": "error",
     "traceback": [
      "\u001b[1;31m---------------------------------------------------------------------------\u001b[0m",
      "\u001b[1;31mNameError\u001b[0m                                 Traceback (most recent call last)",
      "\u001b[1;32m<ipython-input-17-2768411e1195>\u001b[0m in \u001b[0;36m<module>\u001b[1;34m\u001b[0m\n\u001b[0;32m      7\u001b[0m \u001b[1;33m\u001b[0m\u001b[0m\n\u001b[0;32m      8\u001b[0m \u001b[0mmsg\u001b[0m\u001b[1;33m(\u001b[0m\u001b[1;33m)\u001b[0m\u001b[1;33m\u001b[0m\u001b[1;33m\u001b[0m\u001b[0m\n\u001b[1;32m----> 9\u001b[1;33m \u001b[0mprint\u001b[0m \u001b[1;33m(\u001b[0m\u001b[0ma\u001b[0m\u001b[1;33m)\u001b[0m  \u001b[1;31m# Xay ra error vi bien day la cuc bo cua ham msg\u001b[0m\u001b[1;33m\u001b[0m\u001b[1;33m\u001b[0m\u001b[0m\n\u001b[0m",
      "\u001b[1;31mNameError\u001b[0m: name 'a' is not defined"
     ]
    }
   ],
   "source": [
    "def msg():\n",
    "    # Bien cuc bo\n",
    "    a = 10\n",
    "    print(\"Gia tri cua a la\", a)\n",
    "    return\n",
    "\n",
    "\n",
    "msg()\n",
    "print (a)  # Xay ra error vi bien day la cuc bo cua ham msg\n"
   ]
  },
  {
   "cell_type": "code",
   "execution_count": 18,
   "metadata": {},
   "outputs": [
    {
     "name": "stdout",
     "output_type": "stream",
     "text": [
      "Gia tri cua a la 10\n",
      "Gia tri cua b la 20\n",
      "20\n"
     ]
    }
   ],
   "source": [
    "b = 20\n",
    "\n",
    "def msg():\n",
    "    a = 10\n",
    "    print(\"Gia tri cua a la\", a)\n",
    "    # Bien toan cuc co the duoc su dung ben trong ham\n",
    "    print(\"Gia tri cua b la\", b)\n",
    "    return\n",
    "\n",
    "msg()\n",
    "print(b)\n"
   ]
  },
  {
   "cell_type": "code",
   "execution_count": 19,
   "metadata": {},
   "outputs": [
    {
     "name": "stdout",
     "output_type": "stream",
     "text": [
      "15\n"
     ]
    },
    {
     "ename": "TypeError",
     "evalue": "sum() missing 1 required positional argument: '_b'",
     "output_type": "error",
     "traceback": [
      "\u001b[1;31m---------------------------------------------------------------------------\u001b[0m",
      "\u001b[1;31mTypeError\u001b[0m                                 Traceback (most recent call last)",
      "\u001b[1;32m<ipython-input-19-80a3e9403fd6>\u001b[0m in \u001b[0;36m<module>\u001b[1;34m\u001b[0m\n\u001b[0;32m      8\u001b[0m \u001b[0msum\u001b[0m\u001b[1;33m(\u001b[0m\u001b[1;36m5\u001b[0m\u001b[1;33m,\u001b[0m \u001b[1;36m10\u001b[0m\u001b[1;33m)\u001b[0m\u001b[1;33m\u001b[0m\u001b[1;33m\u001b[0m\u001b[0m\n\u001b[0;32m      9\u001b[0m \u001b[1;31m# Error\u001b[0m\u001b[1;33m\u001b[0m\u001b[1;33m\u001b[0m\u001b[1;33m\u001b[0m\u001b[0m\n\u001b[1;32m---> 10\u001b[1;33m \u001b[0msum\u001b[0m\u001b[1;33m(\u001b[0m\u001b[1;36m20\u001b[0m\u001b[1;33m)\u001b[0m\u001b[1;33m\u001b[0m\u001b[1;33m\u001b[0m\u001b[0m\n\u001b[0m",
      "\u001b[1;31mTypeError\u001b[0m: sum() missing 1 required positional argument: '_b'"
     ]
    }
   ],
   "source": [
    "# Phan dinh nghia cua ham sum\n",
    "def sum(_a, _b):\n",
    "    \"Ham tinh tong hai tham so\"\n",
    "    _c = _a + _b\n",
    "    print(_c)\n",
    "\n",
    "\n",
    "sum(5, 10)\n",
    "# Error\n",
    "sum(20)\n"
   ]
  },
  {
   "cell_type": "code",
   "execution_count": 21,
   "metadata": {},
   "outputs": [
    {
     "name": "stdout",
     "output_type": "stream",
     "text": [
      "Id: 100\n",
      "Ten: Hoang\n",
      "Tuoi: 20\n",
      "*******\n",
      "Id: 101\n",
      "Ten: Thanh\n",
      "Tuoi: 23\n",
      "Id: 889\n",
      "Ten: Nguyen Duong Hung\n",
      "Tuoi: 23\n"
     ]
    }
   ],
   "source": [
    "# Phan dinh nghia ham\n",
    "def msg(_id, _name, _age=23):\n",
    "    \"In gia tri da truyen\"\n",
    "    print('Id:', _id)\n",
    "    print('Ten:', _name)\n",
    "    print('Tuoi:', _age)\n",
    "    return\n",
    "# Goi ham\n",
    "#msg(100, 'Hoang', 20)\n",
    "msg(_name='Hoang', _id=100, _age=20)\n",
    "print('*******')\n",
    "msg(_id=101, _name='Thanh')\n",
    "msg(889,'Nguyen Duong Hung')\n",
    "#msg(101,'Thanh')\n"
   ]
  },
  {
   "cell_type": "code",
   "execution_count": 22,
   "metadata": {},
   "outputs": [
    {
     "name": "stdout",
     "output_type": "stream",
     "text": [
      "Id:  100\n",
      "Tên:  Hoang\n",
      "Id:  101\n",
      "Tên:  Thanh\n"
     ]
    }
   ],
   "source": [
    "def msg(_id, _name):\n",
    "    \"In gia tri da truyen\"\n",
    "    print('Id: ', _id)\n",
    "    print('Tên: ', _name)\n",
    "    return\n",
    "\n",
    "\n",
    "msg(_id=100, _name='Hoang')\n",
    "msg(_name='Thanh', _id=101)\n",
    "\n"
   ]
  },
  {
   "cell_type": "code",
   "execution_count": 23,
   "metadata": {},
   "outputs": [
    {
     "name": "stdout",
     "output_type": "stream",
     "text": [
      "Ket qua la: \n",
      "10\n",
      "Ket qua la: \n",
      "70\n",
      "60\n",
      "50\n"
     ]
    }
   ],
   "source": [
    "# Phan dinh nghia ham o day\n",
    "def printinfo(arg1, *var):\n",
    "    \"In mot tham so da truyen\"\n",
    "    print(\"Ket qua la: \")\n",
    "    print(arg1)\n",
    "    for v in var:\n",
    "        print(v)\n",
    "    return\n",
    "\n",
    "\n",
    "# Bay gio ban co the goi ham printinfo\n",
    "# Goi lan 1\n",
    "printinfo(10)\n",
    "# Goi lan 2\n",
    "printinfo(70, 60, 50)\n",
    "\n"
   ]
  },
  {
   "cell_type": "code",
   "execution_count": null,
   "metadata": {},
   "outputs": [],
   "source": []
  }
 ],
 "metadata": {
  "kernelspec": {
   "display_name": "Python 3",
   "language": "python",
   "name": "python3"
  },
  "language_info": {
   "codemirror_mode": {
    "name": "ipython",
    "version": 3
   },
   "file_extension": ".py",
   "mimetype": "text/x-python",
   "name": "python",
   "nbconvert_exporter": "python",
   "pygments_lexer": "ipython3",
   "version": "3.8.1"
  }
 },
 "nbformat": 4,
 "nbformat_minor": 4
}
